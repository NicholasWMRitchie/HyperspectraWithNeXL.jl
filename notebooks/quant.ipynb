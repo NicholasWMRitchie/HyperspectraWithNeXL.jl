{
 "cells": [
  {
   "cell_type": "markdown",
   "source": [
    "# K2496 example\n",
    "\n",
    "Quantify K2496, a Ba, Ti, Si and O containing engineered glass."
   ],
   "metadata": {
    "nteract": {
     "transient": {
      "deleting": false
     }
    }
   }
  },
  {
   "cell_type": "code",
   "execution_count": null,
   "source": [
    "# Load DrWatson project manager and enable custom environment\r\n",
    "using DrWatson\r\n",
    "@quickactivate(\"HyperspectraWithNeXL\")\r\n",
    "# Load the necessary NeXL libraries\r\n",
    "using NeXLSpectrum\r\n",
    "\r\n",
    "# Load 3rd party libraries for plotting and tabulation\r\n",
    "using Gadfly, DataFrames\r\n",
    "\r\n",
    "path = joinpath(datadir(),\"exp_raw\",\"K2496\")\r\n",
    "# Read the spectra from disk\r\n",
    "k2496 = loadspectrum.(joinpath(path,\"K2496_$(i).msa\") for i in 1:3)\r\n",
    "# Plot them using a method of Gadfly.plot(...) specialized for Spectrum items\r\n",
    "set_default_plot_size(8inch,3inch)\r\n",
    "plot(k2496..., klms=[ n\"O\", n\"Si\", n\"Ti\", n\"Ba\" ], xmax=10.0e3)"
   ],
   "outputs": [],
   "metadata": {
    "nteract": {
     "transient": {
      "deleting": false
     }
    }
   }
  },
  {
   "cell_type": "markdown",
   "source": [
    "Define a BasicEDS detector object with the properties of the measurement device.  Then apply the detector to the measured spectra."
   ],
   "metadata": {
    "nteract": {
     "transient": {
      "deleting": false
     }
    }
   }
  },
  {
   "cell_type": "code",
   "execution_count": null,
   "source": [
    "det = BasicEDS(4096, -480.40409, 5.00525, 132.0, 110, \r\n",
    "         Dict(KShell=>n\"B\", LShell=>n\"Ca\", MShell=>n\"Cs\"))\r\n",
    "k2496 = map(s->apply(s,det), k2496)\r\n",
    "det"
   ],
   "outputs": [],
   "metadata": {
    "nteract": {
     "transient": {
      "deleting": false
     }
    }
   }
  },
  {
   "cell_type": "markdown",
   "source": [
    "Compute the filtered reference spectra from the standards.  Sanbornite acts as a reference for both Si and Ba.  But Ba requires a second spectrum (\"BaCl2 std.msa\") because the O in Sanbornite has an interference with the Ba M-family peaks."
   ],
   "metadata": {
    "nteract": {
     "transient": {
      "deleting": false
     }
    }
   }
  },
  {
   "cell_type": "code",
   "execution_count": null,
   "source": [
    "refs = references([\r\n",
    "  reference(n\"Si\", joinpath(path,\"Sanbornite std.msa\"), mat\"BaSi2O5\"),\r\n",
    "  reference(n\"Ba\", joinpath(path,\"Sanbornite std.msa\"), mat\"BaSi2O5\"),\r\n",
    "  reference(n\"Ba\", joinpath(path,\"BaCl2 std.msa\"), mat\"BaCl2\"),\r\n",
    "  reference(n\"O\", joinpath(path,\"MgO std.msa\"), mat\"MgO\"),\r\n",
    "  reference(n\"Ti\", joinpath(path,\"Ti std.msa\"), mat\"Ti\") ], det)\r\n",
    "ENV[\"columns\"]=400\r\n",
    "asa(DataFrame, refs)"
   ],
   "outputs": [],
   "metadata": {
    "collapsed": false,
    "jupyter": {
     "outputs_hidden": false,
     "source_hidden": false
    },
    "nteract": {
     "transient": {
      "deleting": false
     }
    }
   }
  },
  {
   "cell_type": "markdown",
   "source": [
    "Fit (fit_spectra(...)) and then matrix correct (quantify(...)) the unknown spectra."
   ],
   "metadata": {
    "nteract": {
     "transient": {
      "deleting": false
     }
    }
   }
  },
  {
   "cell_type": "code",
   "execution_count": null,
   "source": [
    "fs=fit_spectrum(k2496, refs)\r\n",
    "q=quantify.(fs)"
   ],
   "outputs": [],
   "metadata": {
    "nteract": {
     "transient": {
      "deleting": false
     }
    }
   }
  },
  {
   "cell_type": "markdown",
   "source": [
    "fs is a vector of FilterFitResult items.  Plotting a FilterFitResult shows the raw spectral data (blue), the residual spectrum (red) and the rois and k-ratios in grey above the peaks."
   ],
   "metadata": {
    "nteract": {
     "transient": {
      "deleting": false
     }
    }
   }
  },
  {
   "cell_type": "code",
   "execution_count": null,
   "source": [
    "plot(fs[1])"
   ],
   "outputs": [],
   "metadata": {
    "collapsed": false,
    "jupyter": {
     "outputs_hidden": false,
     "source_hidden": false
    },
    "nteract": {
     "transient": {
      "deleting": false
     }
    }
   }
  },
  {
   "cell_type": "code",
   "execution_count": null,
   "source": [
    "asa(DataFrame, fs[1])"
   ],
   "outputs": [],
   "metadata": {
    "collapsed": false,
    "jupyter": {
     "outputs_hidden": false,
     "source_hidden": false
    },
    "nteract": {
     "transient": {
      "deleting": false
     }
    }
   }
  },
  {
   "cell_type": "markdown",
   "source": [
    "The plot may be saved in various formats (including SVG, PNG and PDF)."
   ],
   "metadata": {
    "nteract": {
     "transient": {
      "deleting": false
     }
    }
   }
  },
  {
   "cell_type": "code",
   "execution_count": null,
   "source": [
    "using Cairo, Fontconfig\r\n",
    "plot(fs[1]) |> SVG(joinpath(plotsdir(), \"K2496 residual.svg\"), 8inch, 3inch)\r\n",
    "plot(fs[1]) |> PNG(joinpath(plotsdir(), \"K2496 residual.png\"), 8inch, 3inch)\r\n",
    "plot(fs[1]) |> PDF(joinpath(plotsdir(), \"K2496 residual.pdf\"), 8inch, 3inch)"
   ],
   "outputs": [],
   "metadata": {
    "nteract": {
     "transient": {
      "deleting": false
     }
    }
   }
  },
  {
   "cell_type": "markdown",
   "source": [
    "Output the quant results.  Write the results to a CSV file."
   ],
   "metadata": {
    "nteract": {
     "transient": {
      "deleting": false
     }
    }
   }
  },
  {
   "cell_type": "code",
   "execution_count": null,
   "source": [
    "df = asa(DataFrame, q, nominal=parse(Material,\"0.323*O+0.2291*Si+0.018*Ti+0.4299*Ba\",name=\"K2496 nominal\"))\r\n",
    "using CSV\r\n",
    "CSV.write(joinpath(datadir(),\"exp_pro\",\"K2496 quant.csv\"), df)\r\n",
    "df"
   ],
   "outputs": [],
   "metadata": {
    "nteract": {
     "transient": {
      "deleting": false
     }
    }
   }
  },
  {
   "cell_type": "code",
   "execution_count": null,
   "source": [
    "describe(asa(DataFrame, q)[:,2:end], :mean, :std)"
   ],
   "outputs": [],
   "metadata": {
    "nteract": {
     "transient": {
      "deleting": false
     }
    }
   }
  },
  {
   "cell_type": "markdown",
   "source": [
    "Tabulating a single IterationResult item provides extensive analysis details including uncertainties and matrix correction factors."
   ],
   "metadata": {
    "nteract": {
     "transient": {
      "deleting": false
     }
    }
   }
  },
  {
   "cell_type": "code",
   "execution_count": null,
   "source": [
    "asa(DataFrame, q[1])"
   ],
   "outputs": [],
   "metadata": {
    "collapsed": false,
    "jupyter": {
     "outputs_hidden": false,
     "source_hidden": false
    },
    "nteract": {
     "transient": {
      "deleting": false
     }
    }
   }
  },
  {
   "cell_type": "code",
   "execution_count": null,
   "source": [
    "using PrettyTables\r\n",
    "tbl = vcat( (asa(DataFrame,qi) for qi in q)...) \r\n",
    "open(joinpath(papersdir(),\"Tables\",\"K2496 results.ltx\"),\"w\") do io\r\n",
    "  pretty_table(io, tbl, nosubheader=true, backend=:latex, \r\n",
    "            label=\"Exhaustive quantitative analysis results from 3 measurements of K2496 glass.\")\r\n",
    "end\r\n",
    "tbl"
   ],
   "outputs": [],
   "metadata": {
    "collapsed": false,
    "jupyter": {
     "outputs_hidden": false,
     "source_hidden": false
    },
    "nteract": {
     "transient": {
      "deleting": false
     }
    }
   }
  },
  {
   "cell_type": "markdown",
   "source": [
    "QED"
   ],
   "metadata": {
    "nteract": {
     "transient": {
      "deleting": false
     }
    }
   }
  }
 ],
 "metadata": {
  "kernel_info": {
   "name": "julia-(4-threads)-1.6"
  },
  "kernelspec": {
   "display_name": "Julia (4 threads) 1.6",
   "language": "julia",
   "name": "julia-(4-threads)-1.6"
  },
  "language_info": {
   "file_extension": ".jl",
   "mimetype": "application/julia",
   "name": "julia",
   "version": "1.6.0"
  },
  "nteract": {
   "version": "0.28.0"
  }
 },
 "nbformat": 4,
 "nbformat_minor": 4
}