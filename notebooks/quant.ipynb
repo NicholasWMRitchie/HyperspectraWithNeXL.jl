{
 "cells": [
  {
   "cell_type": "markdown",
   "metadata": {
    "nteract": {
     "transient": {
      "deleting": false
     }
    }
   },
   "source": [
    "# K2496 example\n",
    "\n",
    "Quantify K2496, a Ba, Ti, Si and O containing engineered glass."
   ]
  },
  {
   "cell_type": "code",
   "execution_count": null,
   "metadata": {
    "nteract": {
     "transient": {
      "deleting": false
     }
    }
   },
   "outputs": [],
   "source": [
    "# Load DrWatson project manager and enable custom environment\n",
    "using DrWatson\n",
    "@quickactivate(\"HyperspectraWithNeXL\")\n",
    "# Load the necessary NeXL libraries\n",
    "using NeXLSpectrum\n",
    "\n",
    "# Load 3rd party libraries for plotting and tabulation\n",
    "using Gadfly, DataFrames\n",
    "\n",
    "path = joinpath(datadir(),\"exp_raw\",\"K2496\")\n",
    "# Read the spectra from disk\n",
    "k2496 = loadspectrum.(joinpath(path,\"K2496_$(i).msa\") for i in 1:3)\n",
    "# Plot them using a method of Gadfly.plot(...) specialized for Spectrum items\n",
    "set_default_plot_size(8inch,3inch)\n",
    "plot(k2496..., klms=[ n\"O\", n\"Si\", n\"Ti\", n\"Ba\" ], xmax=10.0e3)"
   ]
  },
  {
   "cell_type": "markdown",
   "metadata": {
    "nteract": {
     "transient": {
      "deleting": false
     }
    }
   },
   "source": [
    "Define a BasicEDS detector object with the properties of the measurement device.  Then apply the detector to the measured spectra."
   ]
  },
  {
   "cell_type": "code",
   "execution_count": null,
   "metadata": {
    "nteract": {
     "transient": {
      "deleting": false
     }
    }
   },
   "outputs": [],
   "source": [
    "det = BasicEDS(4096, -480.40409, 5.00525, 132.0, 110, \n",
    "         Dict(KShell=>n\"B\", LShell=>n\"Ca\", MShell=>n\"Cs\"))\n",
    "k2496 = map(s->apply(s,det), k2496)\n",
    "det"
   ]
  },
  {
   "cell_type": "markdown",
   "metadata": {
    "nteract": {
     "transient": {
      "deleting": false
     }
    }
   },
   "source": [
    "Compute the filtered reference spectra from the standards.  Sanbornite acts as a reference for both Si and Ba.  But Ba requires a second spectrum (\"BaCl2 std.msa\") because the O in Sanbornite has an interference with the Ba M-family peaks."
   ]
  },
  {
   "cell_type": "code",
   "execution_count": null,
   "metadata": {
    "collapsed": false,
    "jupyter": {
     "outputs_hidden": false,
     "source_hidden": false
    },
    "nteract": {
     "transient": {
      "deleting": false
     }
    }
   },
   "outputs": [],
   "source": [
    "refs = references([\n",
    "  reference(n\"Si\", joinpath(path,\"Sanbornite std.msa\"), mat\"BaSi2O5\"),\n",
    "  reference(n\"Ba\", joinpath(path,\"Sanbornite std.msa\"), mat\"BaSi2O5\"),\n",
    "  reference(n\"Ba\", joinpath(path,\"BaCl2 std.msa\"), mat\"BaCl2\"),\n",
    "  reference(n\"O\", joinpath(path,\"MgO std.msa\"), mat\"MgO\"),\n",
    "  reference(n\"Ti\", joinpath(path,\"Ti std.msa\"), mat\"Ti\") ], det)\n",
    "ENV[\"columns\"]=400\n",
    "asa(DataFrame, refs)"
   ]
  },
  {
   "cell_type": "markdown",
   "metadata": {
    "nteract": {
     "transient": {
      "deleting": false
     }
    }
   },
   "source": [
    "Fit (fit_spectra(...)) and then matrix correct (quantify(...)) the unknown spectra."
   ]
  },
  {
   "cell_type": "code",
   "execution_count": null,
   "metadata": {
    "nteract": {
     "transient": {
      "deleting": false
     }
    }
   },
   "outputs": [],
   "source": [
    "fs=fit_spectrum(k2496, refs)\n",
    "q=quantify.(fs)"
   ]
  },
  {
   "cell_type": "markdown",
   "metadata": {
    "nteract": {
     "transient": {
      "deleting": false
     }
    }
   },
   "source": [
    "fs is a vector of FilterFitResult items.  Plotting a FilterFitResult shows the raw spectral data (blue), the residual spectrum (red) and the rois and k-ratios in grey above the peaks."
   ]
  },
  {
   "cell_type": "code",
   "execution_count": null,
   "metadata": {
    "collapsed": false,
    "jupyter": {
     "outputs_hidden": false,
     "source_hidden": false
    },
    "nteract": {
     "transient": {
      "deleting": false
     }
    }
   },
   "outputs": [],
   "source": [
    "plot(fs[1])"
   ]
  },
  {
   "cell_type": "code",
   "execution_count": null,
   "metadata": {
    "collapsed": false,
    "jupyter": {
     "outputs_hidden": false,
     "source_hidden": false
    },
    "nteract": {
     "transient": {
      "deleting": false
     }
    }
   },
   "outputs": [],
   "source": [
    "asa(DataFrame, fs[1])"
   ]
  },
  {
   "cell_type": "markdown",
   "metadata": {
    "nteract": {
     "transient": {
      "deleting": false
     }
    }
   },
   "source": [
    "The plot may be saved in various formats (including SVG, PNG and PDF)."
   ]
  },
  {
   "cell_type": "code",
   "execution_count": null,
   "metadata": {
    "nteract": {
     "transient": {
      "deleting": false
     }
    }
   },
   "outputs": [],
   "source": [
    "# using Cairo, Fontconfig\n",
    "plot(fs[1]) |> SVG(joinpath(plotsdir(), \"K2496 residual.svg\"), 8inch, 3inch)\n",
    "# plot(fs[1]) |> PNG(joinpath(plotsdir(), \"K2496 residual.png\"), 8inch, 3inch)\n",
    "# plot(fs[1]) |> PDF(joinpath(plotsdir(), \"K2496 residual.pdf\"), 8inch, 3inch)"
   ]
  },
  {
   "cell_type": "markdown",
   "metadata": {
    "nteract": {
     "transient": {
      "deleting": false
     }
    }
   },
   "source": [
    "Output the quant results.  Write the results to a CSV file."
   ]
  },
  {
   "cell_type": "code",
   "execution_count": null,
   "metadata": {
    "nteract": {
     "transient": {
      "deleting": false
     }
    }
   },
   "outputs": [],
   "source": [
    "df = asa(DataFrame, q, nominal=parse(Material,\"0.323*O+0.2291*Si+0.018*Ti+0.4299*Ba\",name=\"K2496 nominal\"))\n",
    "using CSV\n",
    "CSV.write(joinpath(datadir(),\"exp_pro\",\"K2496 quant.csv\"), df)\n",
    "df"
   ]
  },
  {
   "cell_type": "code",
   "execution_count": null,
   "metadata": {
    "nteract": {
     "transient": {
      "deleting": false
     }
    }
   },
   "outputs": [],
   "source": [
    "describe(asa(DataFrame, q)[:,2:end], :mean, :std)"
   ]
  },
  {
   "cell_type": "markdown",
   "metadata": {
    "nteract": {
     "transient": {
      "deleting": false
     }
    }
   },
   "source": [
    "Tabulating a single IterationResult item provides extensive analysis details including uncertainties and matrix correction factors."
   ]
  },
  {
   "cell_type": "code",
   "execution_count": null,
   "metadata": {
    "collapsed": false,
    "jupyter": {
     "outputs_hidden": false,
     "source_hidden": false
    },
    "nteract": {
     "transient": {
      "deleting": false
     }
    }
   },
   "outputs": [],
   "source": [
    "asa(DataFrame, q[1])"
   ]
  },
  {
   "cell_type": "code",
   "execution_count": null,
   "metadata": {
    "collapsed": false,
    "jupyter": {
     "outputs_hidden": false,
     "source_hidden": false
    },
    "nteract": {
     "transient": {
      "deleting": false
     }
    }
   },
   "outputs": [],
   "source": [
    "using PrettyTables\n",
    "tbl = vcat( (asa(DataFrame,qi) for qi in q)...) \n",
    "mkpath(joinpath(papersdir(),\"Tables\"))\n",
    "open(joinpath(papersdir(),\"Tables\",\"K2496 results.tex\"),\"w\") do io\n",
    "  pretty_table(io, tbl, nosubheader=true, backend=:latex, \n",
    "            label=\"Exhaustive quantitative analysis results from 3 measurements of K2496 glass.\")\n",
    "end\n",
    "tbl"
   ]
  },
  {
   "cell_type": "markdown",
   "metadata": {
    "nteract": {
     "transient": {
      "deleting": false
     }
    }
   },
   "source": [
    "QED"
   ]
  }
 ],
 "metadata": {
  "kernel_info": {
   "name": "julia-(4-threads)-1.6"
  },
  "kernelspec": {
   "display_name": "Julia (4 threads) 1.6",
   "language": "julia",
   "name": "julia-(4-threads)-1.6"
  },
  "language_info": {
   "file_extension": ".jl",
   "mimetype": "application/julia",
   "name": "julia",
   "version": "1.6.0"
  },
  "nteract": {
   "version": "0.28.0"
  }
 },
 "nbformat": 4,
 "nbformat_minor": 4
}
