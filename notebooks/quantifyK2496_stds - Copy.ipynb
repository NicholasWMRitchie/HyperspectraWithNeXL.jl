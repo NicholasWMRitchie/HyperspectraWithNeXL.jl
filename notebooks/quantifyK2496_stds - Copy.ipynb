{
  "cells": [
    {
      "cell_type": "markdown",
      "metadata": {
        "nteract": {
          "transient": {
            "deleting": false
          }
        }
      },
      "source": [
        "# K2496 example\n",
        "\n",
        "Quantify K2496, a Ba, Ti, Si and O containing engineered glass."
      ]
    },
    {
      "cell_type": "code",
      "execution_count": 1,
      "metadata": {
        "collapsed": false,
        "execution": {
          "iopub.execute_input": "2021-04-27T19:38:51.601Z",
          "iopub.status.busy": "2021-04-27T19:38:50.941Z",
          "iopub.status.idle": "2021-04-22T11:47:28.453Z"
        },
        "jupyter": {
          "outputs_hidden": false,
          "source_hidden": false
        },
        "nteract": {
          "transient": {
            "deleting": false
          }
        }
      },
      "outputs": [
        {
          "name": "stderr",
          "output_type": "stream",
          "text": [
            "┌ Info: Precompiling Gadfly [c91e804a-d5a3-530f-b6f0-dfbca275c004]\n",
            "└ @ Base loading.jl:1317\n",
            "┌ Info: Precompiling DataFrames [a93c6f00-e57d-5684-b7b6-d8193f3e46c0]\n",
            "└ @ Base loading.jl:1317\n",
            "┌ Info: Precompiling NeXLSpectrum [6c578565-ca7f-4012-afc4-b8412d85af92]\n",
            "└ @ Base loading.jl:1317\n"
          ]
        }
      ],
      "source": [
        "# Load DrWatson project manager and enable custom environment\n",
        "using DrWatson\n",
        "@quickactivate(\"HyperspectraWithNeXL\")\n",
        "# Load 3rd party libraries for plotting and tabulation\n",
        "using Gadfly, DataFrames\n",
        "# Load the necessary NeXL libraries\n",
        "using Revise\n",
        "using NeXLSpectrum\n",
        "\n",
        "\n",
        "path = joinpath(datadir(),\"exp_raw\",\"K2496\")\n",
        "# Read the spectra from disk\n",
        "k2496 = loadspectrum.(joinpath(path,\"K2496_$(i).msa\") for i in 1:3)\n",
        "# Plot them using a method of Gadfly.plot(...) specialized for Spectrum items\n",
        "set_default_plot_size(8inch,3inch)\n",
        "plot(k2496..., klms=[ n\"O\", n\"Si\", n\"Ti\", n\"Ba\" ], xmax=10.0e3)"
      ]
    },
    {
      "cell_type": "markdown",
      "metadata": {
        "nteract": {
          "transient": {
            "deleting": false
          }
        }
      },
      "source": [
        "Define a BasicEDS detector object with the properties of the measurement device.  Then apply the detector to the measured spectra."
      ]
    },
    {
      "cell_type": "code",
      "execution_count": null,
      "metadata": {
        "collapsed": true,
        "execution": {
          "iopub.execute_input": "2021-04-22T00:54:53.986Z",
          "iopub.status.busy": "2021-04-22T00:54:53.293Z",
          "iopub.status.idle": "2021-04-22T00:54:57.347Z"
        },
        "jupyter": {
          "outputs_hidden": false,
          "source_hidden": false
        },
        "nteract": {
          "transient": {
            "deleting": false
          }
        }
      },
      "outputs": [],
      "source": [
        "det = BasicEDS(4096, -480.40409, 5.00525, 132.0, 110, \n",
        "         Dict(KShell=>n\"B\", LShell=>n\"Ca\", MShell=>n\"Cs\"))\n",
        "k2496 = map(s->apply(s,det), k2496)\n",
        "det"
      ]
    },
    {
      "cell_type": "markdown",
      "metadata": {
        "nteract": {
          "transient": {
            "deleting": false
          }
        }
      },
      "source": [
        "Compute the filtered reference spectra from the standards.  In this case, we are using \"BaCl2 std.msa\" for all Ba lines and then we will use Sanbornite as a standard for O, Si and Ba."
      ]
    },
    {
      "cell_type": "code",
      "execution_count": null,
      "metadata": {
        "collapsed": false,
        "execution": {
          "iopub.execute_input": "2021-04-22T00:54:57.380Z",
          "iopub.status.busy": "2021-04-22T00:54:57.367Z",
          "iopub.status.idle": "2021-04-22T00:55:14.109Z"
        },
        "jupyter": {
          "outputs_hidden": false,
          "source_hidden": false
        },
        "nteract": {
          "transient": {
            "deleting": false
          }
        }
      },
      "outputs": [],
      "source": [
        "refs = references([\n",
        "  reference(n\"Si\", joinpath(path,\"Si std.msa\"), mat\"Si\"),\n",
        "  reference(n\"Ba\", joinpath(path,\"BaCl2 std.msa\"), mat\"BaCl2\"),\n",
        "  reference(n\"O\", joinpath(path,\"MgO std.msa\"), mat\"MgO\"),\n",
        "  reference(n\"Ti\", joinpath(path,\"Ti std.msa\"), mat\"Ti\") ], det)\n",
        "ENV[\"columns\"]=400\n",
        "asa(DataFrame, refs)"
      ]
    },
    {
      "cell_type": "markdown",
      "metadata": {
        "nteract": {
          "transient": {
            "deleting": false
          }
        }
      },
      "source": [
        "Fit (fit_spectra(...)) and then matrix correct (quantify(...)) the unknown spectra."
      ]
    },
    {
      "cell_type": "markdown",
      "metadata": {
        "nteract": {
          "transient": {
            "deleting": false
          }
        }
      },
      "source": [
        "If we fit these references to the K2496 directly and then quantify, the results are ??????"
      ]
    },
    {
      "cell_type": "code",
      "execution_count": null,
      "metadata": {
        "collapsed": false,
        "execution": {
          "iopub.execute_input": "2021-04-22T00:55:14.142Z",
          "iopub.status.busy": "2021-04-22T00:55:14.131Z",
          "iopub.status.idle": "2021-04-22T00:55:27.399Z"
        },
        "jupyter": {
          "outputs_hidden": false,
          "source_hidden": false
        },
        "nteract": {
          "transient": {
            "deleting": false
          }
        }
      },
      "outputs": [],
      "source": [
        "fs=fit_spectrum(k2496, refs)\n",
        "asa(DataFrame, fs, withUnc=true)"
      ]
    },
    {
      "cell_type": "code",
      "execution_count": null,
      "metadata": {
        "collapsed": true,
        "execution": {
          "iopub.execute_input": "2021-04-22T00:55:27.427Z",
          "iopub.status.busy": "2021-04-22T00:55:27.415Z",
          "iopub.status.idle": "2021-04-22T00:55:41.500Z"
        },
        "jupyter": {
          "outputs_hidden": false,
          "source_hidden": false
        },
        "nteract": {
          "transient": {
            "deleting": false
          }
        }
      },
      "outputs": [],
      "source": [
        "fs=fit_spectrum(k2496, refs)\n",
        "q=quantify.(fs)\n",
        "asa(DataFrame, q, nominal=parse(Material,\"0.323*O+0.2291*Si+0.018*Ti+0.4299*Ba\",name=\"K2496 nominal\"))"
      ]
    },
    {
      "cell_type": "markdown",
      "metadata": {
        "nteract": {
          "transient": {
            "deleting": false
          }
        }
      },
      "source": [
        "Now we turn our attention to the standard \"Sanbornite.\"  We will fit our references to Sanbornite."
      ]
    },
    {
      "cell_type": "code",
      "execution_count": null,
      "metadata": {
        "collapsed": false,
        "execution": {
          "iopub.execute_input": "2021-04-22T00:55:41.527Z",
          "iopub.status.busy": "2021-04-22T00:55:41.517Z",
          "iopub.status.idle": "2021-04-22T00:55:42.440Z"
        },
        "jupyter": {
          "outputs_hidden": false,
          "source_hidden": false
        },
        "nteract": {
          "transient": {
            "deleting": false
          }
        }
      },
      "outputs": [],
      "source": [
        "refs2 = references( [\n",
        "  reference(n\"Si\", joinpath(path,\"Si std.msa\"), mat\"Si\"),\n",
        "  reference(n\"Ba\", joinpath(path,\"BaCl2 std.msa\"), mat\"BaCl2\"),\n",
        "  reference(n\"O\", joinpath(path,\"MgO std.msa\"), mat\"MgO\") ], det);\n",
        "sanbornite = loadspectrum(joinpath(path,\"Sanbornite std.msa\"))\n",
        "sanbornite_std = fit_spectrum(sanbornite, refs2)\n",
        "asa(DataFrame, [ sanbornite_std ], withUnc=true)"
      ]
    },
    {
      "cell_type": "code",
      "execution_count": null,
      "metadata": {
        "collapsed": true,
        "execution": {
          "iopub.execute_input": "2021-04-22T12:45:28.915Z",
          "iopub.status.busy": "2021-04-22T12:45:28.903Z",
          "iopub.status.idle": "2021-04-22T12:45:28.936Z"
        },
        "jupyter": {
          "outputs_hidden": false,
          "source_hidden": false
        },
        "nteract": {
          "transient": {
            "deleting": false
          }
        }
      },
      "outputs": [],
      "source": [
        "properties(refs.references[1].label)"
      ]
    },
    {
      "cell_type": "code",
      "execution_count": null,
      "metadata": {
        "collapsed": false,
        "execution": {
          "iopub.execute_input": "2021-04-22T00:55:42.466Z",
          "iopub.status.busy": "2021-04-22T00:55:42.456Z",
          "iopub.status.idle": "2021-04-22T00:55:43.421Z"
        },
        "jupyter": {
          "outputs_hidden": false,
          "source_hidden": false
        },
        "nteract": {
          "transient": {
            "deleting": false
          }
        }
      },
      "outputs": [],
      "source": [
        "fs_stds = [ standardize(fsi, sanbornite_std, mat\"BaSi2O5\") for fsi in fs]\n",
        "asa(DataFrame, fs_stds, withUnc=true)"
      ]
    },
    {
      "cell_type": "code",
      "execution_count": null,
      "metadata": {
        "collapsed": true,
        "execution": {
          "iopub.execute_input": "2021-04-22T01:02:40.223Z",
          "iopub.status.busy": "2021-04-22T01:02:40.207Z",
          "iopub.status.idle": "2021-04-22T01:02:40.247Z"
        },
        "jupyter": {
          "outputs_hidden": false,
          "source_hidden": false
        },
        "nteract": {
          "transient": {
            "deleting": false
          }
        }
      },
      "outputs": [],
      "source": [
        "fs_stds2 = [ standardize(fsi, mat\"BaSi2O5\" => sanbornite_std) for fsi in fs ]\n",
        "asa(DataFrame, fs_stds2, withUnc=true)"
      ]
    },
    {
      "cell_type": "code",
      "execution_count": null,
      "metadata": {
        "collapsed": false,
        "execution": {
          "iopub.execute_input": "2021-04-22T00:57:14.908Z",
          "iopub.status.busy": "2021-04-22T00:57:14.894Z",
          "iopub.status.idle": "2021-04-22T00:57:14.931Z"
        },
        "jupyter": {
          "outputs_hidden": false,
          "source_hidden": false
        },
        "nteract": {
          "transient": {
            "deleting": false
          }
        }
      },
      "outputs": [],
      "source": [
        "describe(asa(DataFrame, fs_stds2)[:,2:end], :mean, :std)"
      ]
    },
    {
      "cell_type": "code",
      "execution_count": null,
      "metadata": {
        "collapsed": true,
        "execution": {
          "iopub.execute_input": "2021-04-22T12:19:20.883Z",
          "iopub.status.busy": "2021-04-22T12:19:20.869Z",
          "iopub.status.idle": "2021-04-22T12:19:21.234Z"
        },
        "jupyter": {
          "outputs_hidden": false,
          "source_hidden": false
        },
        "nteract": {
          "transient": {
            "deleting": false
          }
        }
      },
      "outputs": [],
      "source": [
        "krs=kratios(sanbornite_std)"
      ]
    },
    {
      "cell_type": "code",
      "execution_count": null,
      "metadata": {
        "collapsed": true,
        "execution": {
          "iopub.execute_input": "2021-04-22T12:38:13.104Z",
          "iopub.status.busy": "2021-04-22T12:38:13.088Z",
          "iopub.status.idle": "2021-04-22T12:38:13.139Z"
        },
        "jupyter": {
          "outputs_hidden": false,
          "source_hidden": false
        },
        "nteract": {
          "transient": {
            "deleting": false
          }
        }
      },
      "outputs": [],
      "source": [
        "krs[1].unkProps"
      ]
    },
    {
      "cell_type": "code",
      "execution_count": null,
      "metadata": {
        "collapsed": false,
        "execution": {
          "iopub.execute_input": "2021-04-22T00:55:43.536Z",
          "iopub.status.busy": "2021-04-22T00:55:43.527Z",
          "iopub.status.idle": "2021-04-22T00:55:43.575Z"
        },
        "jupyter": {
          "outputs_hidden": false,
          "source_hidden": false
        },
        "nteract": {
          "transient": {
            "deleting": false
          }
        }
      },
      "outputs": [],
      "source": [
        "q_stds = quantify.(fs_stds)\n",
        "asa(DataFrame, q_stds, nominal=parse(Material,\"0.323*O+0.2291*Si+0.018*Ti+0.4299*Ba\",name=\"K2496 nominal\"))"
      ]
    },
    {
      "cell_type": "markdown",
      "metadata": {
        "nteract": {
          "transient": {
            "deleting": false
          }
        }
      },
      "source": [
        "fs is a vector of FilterFitResult items.  Plotting a FilterFitResult shows the raw spectral data (blue), the residual spectrum (red) and the rois and k-ratios in grey above the peaks."
      ]
    },
    {
      "cell_type": "code",
      "execution_count": null,
      "metadata": {
        "collapsed": false,
        "execution": {
          "iopub.execute_input": "2021-04-22T00:55:43.601Z",
          "iopub.status.busy": "2021-04-22T00:55:43.591Z",
          "iopub.status.idle": "2021-04-22T00:55:48.371Z"
        },
        "jupyter": {
          "outputs_hidden": false,
          "source_hidden": false
        },
        "nteract": {
          "transient": {
            "deleting": false
          }
        }
      },
      "outputs": [],
      "source": [
        "display(plot(fs[1]))"
      ]
    },
    {
      "cell_type": "code",
      "execution_count": null,
      "metadata": {
        "collapsed": true,
        "execution": {
          "iopub.execute_input": "2021-04-22T00:55:48.412Z",
          "iopub.status.busy": "2021-04-22T00:55:48.402Z",
          "iopub.status.idle": "2021-04-22T00:55:48.535Z"
        },
        "jupyter": {
          "outputs_hidden": false,
          "source_hidden": false
        },
        "nteract": {
          "transient": {
            "deleting": false
          }
        }
      },
      "outputs": [],
      "source": [
        "display(plot(fs_stds[1]))"
      ]
    },
    {
      "cell_type": "code",
      "execution_count": null,
      "metadata": {
        "collapsed": false,
        "execution": {
          "iopub.execute_input": "2021-04-22T00:55:48.554Z",
          "iopub.status.busy": "2021-04-22T00:55:48.546Z",
          "iopub.status.idle": "2021-04-22T00:55:49.450Z"
        },
        "jupyter": {
          "outputs_hidden": false,
          "source_hidden": false
        },
        "nteract": {
          "transient": {
            "deleting": false
          }
        }
      },
      "outputs": [],
      "source": [
        "asa(DataFrame, fs_stds[1])"
      ]
    },
    {
      "cell_type": "markdown",
      "metadata": {
        "nteract": {
          "transient": {
            "deleting": false
          }
        }
      },
      "source": [
        "The plot may be saved in various formats (including SVG, PNG and PDF)."
      ]
    },
    {
      "cell_type": "code",
      "execution_count": null,
      "metadata": {
        "collapsed": true,
        "execution": {
          "iopub.execute_input": "2021-04-22T00:55:49.473Z",
          "iopub.status.busy": "2021-04-22T00:55:49.463Z",
          "iopub.status.idle": "2021-04-22T00:55:59.987Z"
        },
        "jupyter": {
          "outputs_hidden": false,
          "source_hidden": false
        },
        "nteract": {
          "transient": {
            "deleting": false
          }
        }
      },
      "outputs": [],
      "source": [
        "#using Cairo, Fontconfig\n",
        "plot(fs_stds[1]) |> SVG(joinpath(plotsdir(), \"K2496 residual - indirect.svg\"), 8inch, 3inch)\n",
        "#plot(fs_stds[1]) |> PNG(joinpath(plotsdir(), \"K2496 residual - indirect.png\"), 8inch, 3inch)\n",
        "#plot(fs_stds[1]) |> PDF(joinpath(plotsdir(), \"K2496 residual - indirect.pdf\"), 8inch, 3inch)"
      ]
    },
    {
      "cell_type": "markdown",
      "metadata": {
        "nteract": {
          "transient": {
            "deleting": false
          }
        }
      },
      "source": [
        "Output the quant results.  Write the results to a CSV file."
      ]
    },
    {
      "cell_type": "code",
      "execution_count": null,
      "metadata": {
        "collapsed": true,
        "execution": {
          "iopub.execute_input": "2021-04-22T00:56:00.014Z",
          "iopub.status.busy": "2021-04-22T00:56:00.003Z",
          "iopub.status.idle": "2021-04-22T00:56:00.670Z"
        },
        "jupyter": {
          "outputs_hidden": false,
          "source_hidden": false
        },
        "nteract": {
          "transient": {
            "deleting": false
          }
        }
      },
      "outputs": [],
      "source": [
        "df = asa(DataFrame, q, nominal=parse(Material,\"0.323*O+0.2291*Si+0.018*Ti+0.4299*Ba\",name=\"K2496 nominal\"))\n",
        "using CSV\n",
        "CSV.write(joinpath(datadir(),\"exp_pro\",\"K2496 quant.csv\"), df)\n",
        "df"
      ]
    },
    {
      "cell_type": "code",
      "execution_count": null,
      "metadata": {
        "collapsed": true,
        "execution": {
          "iopub.execute_input": "2021-04-22T00:56:00.702Z",
          "iopub.status.busy": "2021-04-22T00:56:00.689Z",
          "iopub.status.idle": "2021-04-22T00:56:04.291Z"
        },
        "jupyter": {
          "outputs_hidden": false,
          "source_hidden": false
        },
        "nteract": {
          "transient": {
            "deleting": false
          }
        }
      },
      "outputs": [],
      "source": [
        "describe(asa(DataFrame, q)[:,2:end], :mean, :std)"
      ]
    },
    {
      "cell_type": "markdown",
      "metadata": {
        "nteract": {
          "transient": {
            "deleting": false
          }
        }
      },
      "source": [
        "Tabulating a single IterationResult item provides extensive analysis details including uncertainties and matrix correction factors."
      ]
    },
    {
      "cell_type": "code",
      "execution_count": null,
      "metadata": {
        "collapsed": false,
        "execution": {
          "iopub.execute_input": "2021-04-22T00:56:04.315Z",
          "iopub.status.busy": "2021-04-22T00:56:04.306Z",
          "iopub.status.idle": "2021-04-22T00:56:05.728Z"
        },
        "jupyter": {
          "outputs_hidden": false,
          "source_hidden": false
        },
        "nteract": {
          "transient": {
            "deleting": false
          }
        }
      },
      "outputs": [],
      "source": [
        "asa(DataFrame, q[1])"
      ]
    },
    {
      "cell_type": "code",
      "execution_count": null,
      "metadata": {
        "collapsed": false,
        "execution": {
          "iopub.execute_input": "2021-04-22T00:56:05.757Z",
          "iopub.status.busy": "2021-04-22T00:56:05.743Z",
          "iopub.status.idle": "2021-04-22T00:56:09.079Z"
        },
        "jupyter": {
          "outputs_hidden": false,
          "source_hidden": false
        },
        "nteract": {
          "transient": {
            "deleting": false
          }
        }
      },
      "outputs": [],
      "source": [
        "using PrettyTables\n",
        "tbl = vcat( (asa(DataFrame,qi) for qi in q)...) \n",
        "mkpath(joinpath(papersdir(),\"Tables\"))\n",
        "open(joinpath(papersdir(),\"Tables\",\"K2496 results - standardized.tex\"),\"w\") do io\n",
        "  pretty_table(io, tbl, nosubheader=true, backend=:latex, \n",
        "            label=\"Exhaustive quantitative analysis results from 3 measurements of K2496 glass.\")\n",
        "end\n",
        "tbl"
      ]
    },
    {
      "cell_type": "markdown",
      "metadata": {
        "nteract": {
          "transient": {
            "deleting": false
          }
        }
      },
      "source": [
        "QED"
      ]
    }
  ],
  "metadata": {
    "kernel_info": {
      "name": "julia-(4-threads)-1.6"
    },
    "kernelspec": {
      "argv": [
        "C:\\Users\\nritchie\\AppData\\Local\\Programs\\Julia-1.6.0\\bin\\julia.exe",
        "-i",
        "--color=yes",
        "C:\\Users\\nritchie\\.julia\\packages\\IJulia\\e8kqU\\src\\kernel.jl",
        "{connection_file}"
      ],
      "display_name": "Julia (4 threads) 1.6.0",
      "env": {
        "JULIA_NUM_THREADS": "4"
      },
      "interrupt_mode": "message",
      "language": "julia",
      "name": "julia-(4-threads)-1.6"
    },
    "language_info": {
      "file_extension": ".jl",
      "mimetype": "application/julia",
      "name": "julia",
      "version": "1.6.1"
    },
    "nteract": {
      "version": "0.28.0"
    }
  },
  "nbformat": 4,
  "nbformat_minor": 0
}
