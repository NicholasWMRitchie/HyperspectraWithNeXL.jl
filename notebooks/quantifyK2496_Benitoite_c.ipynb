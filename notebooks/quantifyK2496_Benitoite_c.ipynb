{
 "cells": [
  {
   "cell_type": "markdown",
   "metadata": {
    "nteract": {
     "transient": {
      "deleting": false
     }
    }
   },
   "source": [
    "# K2496 example\n",
    "\n",
    "Quantify K2496, a Ba, Ti, Si and O containing engineered glass."
   ]
  },
  {
   "cell_type": "code",
   "execution_count": null,
   "metadata": {
    "collapsed": false,
    "jupyter": {
     "outputs_hidden": false,
     "source_hidden": false
    },
    "nteract": {
     "transient": {
      "deleting": false
     }
    }
   },
   "outputs": [],
   "source": [
    "# Load DrWatson project manager and enable custom environment\n",
    "using DrWatson\n",
    "@quickactivate \"HyperspectraWithNeXL\"\n",
    "# Load 3rd party libraries for plotting and tabulation\n",
    "using Gadfly, DataFrames\n",
    "# Load the necessary NeXL libraries\n",
    "using Revise\n",
    "using NeXLSpectrum\n",
    "\n",
    "\n",
    "path = joinpath(datadir(),\"exp_raw\",\"K2496\")\n",
    "# Read the spectra from disk\n",
    "k2496 = loadspectrum.(joinpath(path,\"K2496_$(i).msa\") for i in 1:3)\n",
    "benitoite = loadspectrum(joinpath(path,\"Benitoite std.msa\"))\n",
    "# Plot them using a method of Gadfly.plot(...) specialized for Spectrum items\n",
    "set_default_plot_size(8inch,3inch)\n",
    "plot(k2496..., benitoite, klms=[ n\"O\", n\"Si\", n\"Ti\", n\"Ba\" ], xmax=6.0e3)"
   ]
  },
  {
   "cell_type": "code",
   "execution_count": null,
   "metadata": {},
   "outputs": [],
   "source": [
    "properties(k2496[1])"
   ]
  },
  {
   "cell_type": "markdown",
   "metadata": {
    "nteract": {
     "transient": {
      "deleting": false
     }
    }
   },
   "source": [
    "Define a BasicEDS detector object with the properties of the measurement device.  Then apply the detector to the measured spectra."
   ]
  },
  {
   "cell_type": "code",
   "execution_count": null,
   "metadata": {
    "collapsed": false,
    "jupyter": {
     "outputs_hidden": false,
     "source_hidden": false
    },
    "nteract": {
     "transient": {
      "deleting": false
     }
    }
   },
   "outputs": [],
   "source": [
    "det = BasicEDS(4096, -480.40409, 5.00525, 132.0, 110, \n",
    "         Dict(KShell=>n\"B\", LShell=>n\"Ca\", MShell=>n\"Cs\"))\n",
    "k2496 = map(s->apply(s,det), k2496)\n",
    "benitoite = apply(benitoite,det) \n",
    "det"
   ]
  },
  {
   "cell_type": "markdown",
   "metadata": {
    "nteract": {
     "transient": {
      "deleting": false
     }
    }
   },
   "source": [
    "Compute the filtered reference spectra from the fitting standards.  In this case, we are using \"Sanbornite std.msa\" for the B L-family, \"BaCl2 std.msa\" for the Ba M-lines, \"MgO std.msa\" for O and pure elements for Si and Ti. "
   ]
  },
  {
   "cell_type": "code",
   "execution_count": null,
   "metadata": {
    "collapsed": false,
    "jupyter": {
     "outputs_hidden": false,
     "source_hidden": false
    },
    "nteract": {
     "transient": {
      "deleting": false
     }
    }
   },
   "outputs": [],
   "source": [
    "refs = references( [\n",
    "  reference(n\"Si\", joinpath(path,\"Si std.msa\"), mat\"Si\"),\n",
    "  reference(n\"Ba\", joinpath(path,\"Sanbornite std.msa\"), mat\"BaSi2O5\"),  # Only L-lines are clear\n",
    "  reference(n\"Ba\", joinpath(path,\"BaCl2 std.msa\"), mat\"BaCl2\"), # Picks up the M-lines\n",
    "  reference(n\"Ti\", joinpath(path,\"Ti std.msa\"), mat\"Ti\"),\n",
    "  reference(n\"O\", joinpath(path,\"MgO std.msa\"), mat\"MgO\"),\n",
    "  reference(n\"C\", joinpath(path,\"C std.msa\"), mat\"C\") ], det)\n",
    "ENV[\"columns\"]=400\n",
    "asa(DataFrame, refs)"
   ]
  },
  {
   "cell_type": "markdown",
   "metadata": {
    "nteract": {
     "transient": {
      "deleting": false
     }
    }
   },
   "source": [
    "Fit (fit_spectra(...)) and then matrix correct (quantify(...)) the unknown spectra."
   ]
  },
  {
   "cell_type": "markdown",
   "metadata": {
    "nteract": {
     "transient": {
      "deleting": false
     }
    }
   },
   "source": [
    "Fit these references to the K2496 to get a set of k-ratios with respect to the fitting standards."
   ]
  },
  {
   "cell_type": "code",
   "execution_count": null,
   "metadata": {
    "collapsed": false,
    "jupyter": {
     "outputs_hidden": false,
     "source_hidden": false
    },
    "nteract": {
     "transient": {
      "deleting": false
     }
    }
   },
   "outputs": [],
   "source": [
    "fs=fit_spectrum(k2496, refs)\n",
    "asa(DataFrame, fs, withUnc=true)"
   ]
  },
  {
   "cell_type": "markdown",
   "metadata": {},
   "source": [
    "Now quantify K2496 using the fitting standards and compare to the nominal composition."
   ]
  },
  {
   "cell_type": "code",
   "execution_count": null,
   "metadata": {
    "collapsed": false,
    "jupyter": {
     "outputs_hidden": false,
     "source_hidden": false
    },
    "nteract": {
     "transient": {
      "deleting": false
     }
    }
   },
   "outputs": [],
   "source": [
    "q=quantify.(fs, strip=[n\"C\"])\n",
    "k2496_nom = parse(Material,\"0.323*O+0.2291*Si+0.018*Ti+0.4299*Ba\",name=\"K2496 nominal\")\n",
    "asa(DataFrame, q, nominal=k2496_nom)"
   ]
  },
  {
   "cell_type": "markdown",
   "metadata": {
    "nteract": {
     "transient": {
      "deleting": false
     }
    }
   },
   "source": [
    "Now we turn our attention to the quantification standard \"Benitoite.\"  We will fit the same fitting standards to Benitoite and get a set of k-ratios for Benitoite relative to the fitting standards."
   ]
  },
  {
   "cell_type": "code",
   "execution_count": null,
   "metadata": {
    "collapsed": false,
    "jupyter": {
     "outputs_hidden": false,
     "source_hidden": false
    },
    "nteract": {
     "transient": {
      "deleting": false
     }
    }
   },
   "outputs": [],
   "source": [
    "benitoite_std = fit_spectrum(benitoite, refs)\n",
    "asa(DataFrame, [ benitoite_std ], withUnc=true)"
   ]
  },
  {
   "cell_type": "markdown",
   "metadata": {},
   "source": [
    "Next, we take into account the carbon coating on the Benitoite standard.  We will use the C K-L2 k-ratio to estimate the mass-thickness of the carbon coating."
   ]
  },
  {
   "cell_type": "code",
   "execution_count": null,
   "metadata": {},
   "outputs": [],
   "source": [
    "std_mat =  parse(Material, \"BaTiSi3O9\", name=\"Benitoite\")\n",
    "coating_mat = parse(Material,\"C\",density=1.9)\n",
    "estimatecoating(benitoite_std, std_mat, coating_mat, n\"C K-L2\")"
   ]
  },
  {
   "cell_type": "code",
   "execution_count": null,
   "metadata": {
    "collapsed": false,
    "jupyter": {
     "outputs_hidden": false,
     "source_hidden": false
    },
    "nteract": {
     "transient": {
      "deleting": false
     }
    }
   },
   "outputs": [],
   "source": [
    "plot(benitoite_std)"
   ]
  },
  {
   "cell_type": "markdown",
   "metadata": {},
   "source": [
    "The propertes of `benitoite_std` show that the estimated mass-thickness of the carbon coating was assigned to the :Coating property for use later in quantification."
   ]
  },
  {
   "cell_type": "code",
   "execution_count": null,
   "metadata": {
    "collapsed": false,
    "jupyter": {
     "outputs_hidden": false,
     "source_hidden": false
    },
    "nteract": {
     "transient": {
      "deleting": false
     }
    }
   },
   "outputs": [],
   "source": [
    "properties(benitoite_std.label.spectrum)"
   ]
  },
  {
   "cell_type": "code",
   "execution_count": null,
   "metadata": {},
   "outputs": [],
   "source": [
    "std_mat"
   ]
  },
  {
   "cell_type": "markdown",
   "metadata": {},
   "source": [
    "Apply the quantification standard k-ratios in `benitoite_std` to the unknown materials k-ratios measured relative to the fitting standards `fsi` where the assumed composition of the standard is `std_mat`."
   ]
  },
  {
   "cell_type": "code",
   "execution_count": null,
   "metadata": {
    "collapsed": false,
    "jupyter": {
     "outputs_hidden": false,
     "source_hidden": false
    },
    "nteract": {
     "transient": {
      "deleting": false
     }
    }
   },
   "outputs": [],
   "source": [
    "fs_stds = map(fsi->standardize(fsi, benitoite_std, std_mat), fs)\n",
    "asa(DataFrame, fs_stds, withUnc=true)"
   ]
  },
  {
   "cell_type": "markdown",
   "metadata": {},
   "source": [
    "Now quantify the unknown k-ratio relative to the fitting standards.  In addition, use the measured k-ratio for C to estimate the coating thickness on the unknown."
   ]
  },
  {
   "cell_type": "code",
   "execution_count": null,
   "metadata": {
    "collapsed": false,
    "jupyter": {
     "outputs_hidden": false,
     "source_hidden": false
    },
    "nteract": {
     "transient": {
      "deleting": false
     }
    }
   },
   "outputs": [],
   "source": [
    "q_stds = quantify.(fs_stds, coating=n\"C K-L2\"=>coating_mat)\n",
    "asa(DataFrame, q_stds, nominal=k2496_nom)"
   ]
  },
  {
   "cell_type": "markdown",
   "metadata": {
    "nteract": {
     "transient": {
      "deleting": false
     }
    }
   },
   "source": [
    "The plot may be saved in various formats (including SVG, PNG and PDF)."
   ]
  },
  {
   "cell_type": "code",
   "execution_count": null,
   "metadata": {
    "collapsed": false,
    "jupyter": {
     "outputs_hidden": false,
     "source_hidden": false
    },
    "nteract": {
     "transient": {
      "deleting": false
     }
    }
   },
   "outputs": [],
   "source": [
    "using Cairo, Fontconfig\n",
    "#plot(fs_stds[1]) |> SVG(joinpath(plotsdir(), \"K2496 residual - indirect.svg\"), 8inch, 3inch)\n",
    "#plot(fs_stds[1]) |> PNG(joinpath(plotsdir(), \"K2496 residual - indirect.png\"), 8inch, 3inch)\n",
    "plot(fs_stds[1]) |> PDF(joinpath(plotsdir(), \"K2496 residual - indirect.pdf\"), 8inch, 3inch)"
   ]
  },
  {
   "cell_type": "markdown",
   "metadata": {
    "nteract": {
     "transient": {
      "deleting": false
     }
    }
   },
   "source": [
    "Output the quant results.  Write the results to a CSV file."
   ]
  },
  {
   "cell_type": "code",
   "execution_count": null,
   "metadata": {
    "collapsed": false,
    "jupyter": {
     "outputs_hidden": false,
     "source_hidden": false
    },
    "nteract": {
     "transient": {
      "deleting": false
     }
    }
   },
   "outputs": [],
   "source": [
    "df = asa(DataFrame, q_stds, nominal=k2496_nom)\n",
    "using CSV\n",
    "CSV.write(joinpath(datadir(),\"exp_pro\",\"K2496 quant - Benitoite.csv\"), df)\n",
    "df"
   ]
  },
  {
   "cell_type": "markdown",
   "metadata": {},
   "source": [
    "Since there were three measurements, we can use the `describe(...)` function to statistically summarize the measured compositions."
   ]
  },
  {
   "cell_type": "code",
   "execution_count": null,
   "metadata": {
    "collapsed": false,
    "jupyter": {
     "outputs_hidden": false,
     "source_hidden": false
    },
    "nteract": {
     "transient": {
      "deleting": false
     }
    }
   },
   "outputs": [],
   "source": [
    "using Statistics\n",
    "zs=sort(collect(elms(k2496_nom)))\n",
    "res_df=DataFrame(\n",
    "    Elements=symbol.(zs), #\n",
    "    Nominal=map(z->k2496_nom[z],zs), #\n",
    "    Fitting=map(z->mean(qi->qi.comp[z], q), zs),\n",
    "    Similar=map(z->mean(qi->qi.comp[z], q_stds), zs)\n",
    ")\n",
    "push!(res_df, [\"Total\", sum(res_df[:, :Nominal]), sum(res_df[:, :Fitting]), sum(res_df[:, :Similar])])"
   ]
  },
  {
   "cell_type": "markdown",
   "metadata": {
    "nteract": {
     "transient": {
      "deleting": false
     }
    }
   },
   "source": [
    "Tabulating a single IterationResult item provides extensive analysis details including uncertainties and matrix correction factors."
   ]
  },
  {
   "cell_type": "code",
   "execution_count": null,
   "metadata": {
    "collapsed": false,
    "jupyter": {
     "outputs_hidden": false,
     "source_hidden": false
    },
    "nteract": {
     "transient": {
      "deleting": false
     }
    }
   },
   "outputs": [],
   "source": [
    "asa(DataFrame, q_stds[1])"
   ]
  },
  {
   "cell_type": "markdown",
   "metadata": {},
   "source": [
    "Compare this with the same details generated when the unknown was quantified using the fitting standards.  The matrix correction factors differ further from unity suggesting a less accurate measurement."
   ]
  },
  {
   "cell_type": "code",
   "execution_count": null,
   "metadata": {},
   "outputs": [],
   "source": [
    "asa(DataFrame, q[1])"
   ]
  },
  {
   "cell_type": "markdown",
   "metadata": {
    "nteract": {
     "transient": {
      "deleting": false
     }
    }
   },
   "source": [
    "Now let's generate LaTeX tables for the paper."
   ]
  },
  {
   "cell_type": "code",
   "execution_count": null,
   "metadata": {
    "collapsed": false,
    "jupyter": {
     "outputs_hidden": false,
     "source_hidden": false
    },
    "nteract": {
     "transient": {
      "deleting": false
     }
    }
   },
   "outputs": [],
   "source": [
    "using PrettyTables\n",
    "tbl = vcat( (asa(DataFrame,qi) for qi in q_stds)...) \n",
    "sort!(tbl, :Element)\n",
    "open(joinpath(papersdir(),\"Tables\",\"K2496benitoite.tex\"),\"w\") do io\n",
    "  pretty_table(io, tbl, nosubheader=true, backend=:latex, \n",
    "            label=\"tbl:k2496_benitoite\")\n",
    "end\n",
    "\n",
    "open(joinpath(papersdir(),\"Tables\",\"K2496overview.tex\"),\"w\") do io\n",
    "    pretty_table(io, res_df, nosubheader=true, backend=:latex, label=\"tbl:k2496over\")\n",
    "end"
   ]
  },
  {
   "cell_type": "markdown",
   "metadata": {
    "nteract": {
     "transient": {
      "deleting": false
     }
    }
   },
   "source": [
    "QED"
   ]
  }
 ],
 "metadata": {
  "kernel_info": {
   "name": "julia-(4-threads)-1.6"
  },
  "kernelspec": {
   "display_name": "Julia (4 threads) 1.6",
   "language": "julia",
   "name": "julia-(4-threads)-1.6"
  },
  "language_info": {
   "file_extension": ".jl",
   "mimetype": "application/julia",
   "name": "julia",
   "version": "1.6.1"
  },
  "nteract": {
   "version": "0.28.0"
  }
 },
 "nbformat": 4,
 "nbformat_minor": 4
}
