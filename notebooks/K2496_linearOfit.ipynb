{
 "cells": [
  {
   "cell_type": "code",
   "execution_count": null,
   "metadata": {
    "nteract": {
     "transient": {
      "deleting": false
     }
    }
   },
   "outputs": [],
   "source": [
    "using DrWatson\n",
    "@quickactivate(\"HyperspectraWithNeXL\")\n",
    "\n",
    "using NeXLSpectrum\n",
    "using Gadfly\n",
    "using DataFrames"
   ]
  },
  {
   "cell_type": "code",
   "execution_count": null,
   "metadata": {
    "nteract": {
     "transient": {
      "deleting": false
     }
    }
   },
   "outputs": [],
   "source": [
    "path = joinpath(datadir(),\"exp_raw\",\"K2496\")\n",
    "# Read the spectra from disk\n",
    "k2496 = loadspectrum.(joinpath(path,\"K2496_$(i).msa\") for i in 1:3)"
   ]
  },
  {
   "cell_type": "code",
   "execution_count": null,
   "metadata": {
    "nteract": {
     "transient": {
      "deleting": false
     }
    }
   },
   "outputs": [],
   "source": [
    "k2496_mat = parse(Material,\"0.323*O+0.2291*Si+0.018*Ti+0.4299*Ba\",name=\"K2496 nominal\")"
   ]
  },
  {
   "cell_type": "code",
   "execution_count": null,
   "metadata": {
    "nteract": {
     "transient": {
      "deleting": false
     }
    }
   },
   "outputs": [],
   "source": [
    "e0 = 10.0e3\n",
    "eff = SDDEfficiency(AP33Tabulation(); thickness=0.0370, deadlayer=30.0e-7, entrance=Film(pure(n\"Al\"), 10.0e-7))"
   ]
  },
  {
   "cell_type": "code",
   "execution_count": null,
   "metadata": {
    "collapsed": false,
    "jupyter": {
     "outputs_hidden": false,
     "source_hidden": false
    },
    "nteract": {
     "transient": {
      "deleting": false
     }
    }
   },
   "outputs": [],
   "source": [
    "cmod = ContinuumModel(k2496_mat, e0, deg2rad(40.0))\n",
    "  set_default_plot_size(8inch,3inch)\n",
    "plot([ea->emitted(cmod, ea),ea->generated(cmod, ea)],100.0,e0)"
   ]
  },
  {
   "cell_type": "code",
   "execution_count": null,
   "metadata": {
    "nteract": {
     "transient": {
      "deleting": false
     }
    }
   },
   "outputs": [],
   "source": [
    "det = BasicEDS(4096, -480.40409, 5.00525, 132.0, 110, \n",
    "         Dict(KShell=>n\"B\", LShell=>n\"Ca\", MShell=>n\"Cs\"))\n",
    "resp = NeXLSpectrum.detectorresponse(det, eff)\n",
    "emt = map(ch->ch>=lld(det) ? emitted(cmod,energy(ch,det)) : 0.0,1:channelcount(det))\n",
    "meas =  resp*emt\n",
    "lyrs = [ layer(x=energyscale(det), y=emt, Geom.line, Theme(default_color=\"red\")), layer(x=energyscale(det), y=meas, Geom.line) ]\n",
    "plot(lyrs..., Coord.cartesian(xmin=0, xmax=e0))"
   ]
  },
  {
   "cell_type": "code",
   "execution_count": null,
   "metadata": {
    "nteract": {
     "transient": {
      "deleting": false
     }
    }
   },
   "outputs": [],
   "source": [
    "roi = channel(2.0e3,det):channel(3.7e3,det)\n",
    "model, mc = Castellano2004a, Riveros1993\n",
    "foreach(s->s[:Composition]=k2496_mat, k2496)\n",
    "brem = [ fitcontinuum(spec, resp, [roi], brem=model, mc=mc) for spec in k2496 ]"
   ]
  },
  {
   "cell_type": "code",
   "execution_count": null,
   "metadata": {
    "collapsed": false,
    "jupyter": {
     "outputs_hidden": false,
     "source_hidden": false
    },
    "nteract": {
     "transient": {
      "deleting": false
     }
    }
   },
   "outputs": [],
   "source": [
    "plot(k2496..., brem..., klms = [ n\"C\", n\"O\", n\"Si\", n\"Ba\" ], yscale=1.02, xmax=2.5e3)"
   ]
  },
  {
   "cell_type": "code",
   "execution_count": null,
   "metadata": {
    "nteract": {
     "transient": {
      "deleting": false
     }
    }
   },
   "outputs": [],
   "source": [
    "iroi = 0.45e3:0.55e3\n",
    "sum(k2496[1][iroi])-sum(brem[1][iroi])"
   ]
  },
  {
   "cell_type": "code",
   "execution_count": null,
   "metadata": {
    "nteract": {
     "transient": {
      "deleting": false
     }
    }
   },
   "outputs": [],
   "source": [
    "benitoite = loadspectrum(joinpath(path,\"Benitoite std.msa\"))\n",
    "benitoite[:Composition] = mat\"BaTiSi3O9\"\n",
    "brem2 = fitcontinuum(benitoite, resp, [roi], brem=model, mc=mc)\n",
    "plot(benitoite, brem2, klms = [ n\"C\", n\"O\", n\"Si\", n\"Ba\" ], yscale=1.05, xmax=2.5e3)\n"
   ]
  },
  {
   "cell_type": "code",
   "execution_count": null,
   "metadata": {
    "nteract": {
     "transient": {
      "deleting": false
     }
    }
   },
   "outputs": [],
   "source": [
    "sum(benitoite[iroi])-sum(brem2[iroi])"
   ]
  },
  {
   "cell_type": "code",
   "execution_count": null,
   "metadata": {
    "nteract": {
     "transient": {
      "deleting": false
     }
    }
   },
   "outputs": [],
   "source": [
    "iroi = 0.45e3:0.55e3\n",
    "k_o = [ (sum(k2496[i][iroi])-sum(brem[i][iroi]))/(sum(benitoite[iroi])-sum(brem2[iroi])) for i in 1:3 ]"
   ]
  },
  {
   "cell_type": "code",
   "execution_count": null,
   "metadata": {
    "nteract": {
     "transient": {
      "deleting": false
     }
    }
   },
   "outputs": [],
   "source": [
    "using Statistics\n",
    "mean(k_o)"
   ]
  },
  {
   "cell_type": "code",
   "execution_count": null,
   "metadata": {
    "nteract": {
     "transient": {
      "deleting": false
     }
    }
   },
   "outputs": [],
   "source": [
    "iroi = 1.7e3:1.8e3\n",
    "k_si = [ (sum(k2496[i][iroi])-sum(brem[i][iroi]))/(sum(benitoite[iroi])-sum(brem2[iroi])) for i in 1:3 ]"
   ]
  },
  {
   "cell_type": "code",
   "execution_count": null,
   "metadata": {
    "nteract": {
     "transient": {
      "deleting": false
     }
    }
   },
   "outputs": [],
   "source": [
    "using Statistics\n",
    "mean(k_si)"
   ]
  }
 ],
 "metadata": {
  "kernel_info": {
   "name": "julia-(4-threads)-1.6"
  },
  "kernelspec": {
   "display_name": "Julia (4 threads) 1.6",
   "language": "julia",
   "name": "julia-(4-threads)-1.6"
  },
  "language_info": {
   "file_extension": ".jl",
   "mimetype": "application/julia",
   "name": "julia",
   "version": "1.6.1"
  },
  "nteract": {
   "version": "0.28.0"
  }
 },
 "nbformat": 4,
 "nbformat_minor": 4
}
