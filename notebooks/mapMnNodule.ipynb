{
 "cells": [
  {
   "cell_type": "markdown",
   "metadata": {
    "nteract": {
     "transient": {
      "deleting": false
     }
    }
   },
   "source": [
    "# Count Maps\n",
    "\n",
    "This notebook demonstrates NeXLSpectrum's functionality for generating count maps.\n"
   ]
  },
  {
   "cell_type": "code",
   "execution_count": null,
   "metadata": {
    "nteract": {
     "transient": {
      "deleting": false
     }
    }
   },
   "outputs": [],
   "source": [
    "using DrWatson\n",
    "@quickactivate(\"HyperspectraWithNeXL\")\n",
    "\n",
    "using NeXLSpectrum\n",
    "using Gadfly"
   ]
  },
  {
   "cell_type": "markdown",
   "metadata": {
    "nteract": {
     "transient": {
      "deleting": false
     }
    }
   },
   "source": [
    "Load the hyperspectrum from the disk file pair \"map[15].rpl/.raw\"."
   ]
  },
  {
   "cell_type": "code",
   "execution_count": null,
   "metadata": {
    "nteract": {
     "transient": {
      "deleting": false
     }
    }
   },
   "outputs": [],
   "source": [
    "path = joinpath(datadir(),\"exp_raw\",\"Mn Nodule\")\n",
    "lt = 0.72*4.0*18.0*3600.0/(1024*1024) # 18.0 hours on 4 detectors\n",
    "hs = NeXLSpectrum.compress(HyperSpectrum(\n",
    "           LinearEnergyScale(0.0,10.0),\n",
    "           Dict{Symbol,Any}(\n",
    "             :TakeOffAngle => deg2rad(35.0),\n",
    "             :ProbeCurrent => 1.0,\n",
    "             :LiveTime => lt,\n",
    "             :BeamEnergy => 20.0e3,\n",
    "             :Name => splitdir(path)[2]),\n",
    "                 readrplraw(joinpath(path,\"map[15]\"))\n",
    "                 ))"
   ]
  },
  {
   "cell_type": "markdown",
   "metadata": {
    "nteract": {
     "transient": {
      "deleting": false
     }
    }
   },
   "source": [
    "Defining a detector will ensure the integration regions are the appropriate width.  (The default is 130 eV at Mn K-L3 otherwise.)"
   ]
  },
  {
   "cell_type": "code",
   "execution_count": null,
   "metadata": {
    "nteract": {
     "transient": {
      "deleting": false
     }
    }
   },
   "outputs": [],
   "source": [
    "hs[:Detector] = matching(hs, 132.0)"
   ]
  },
  {
   "cell_type": "code",
   "execution_count": null,
   "metadata": {
    "collapsed": false,
    "jupyter": {
     "outputs_hidden": false,
     "source_hidden": false
    },
    "nteract": {
     "transient": {
      "deleting": false
     }
    }
   },
   "outputs": [],
   "source": [
    "set_default_plot_size(8inch, 3inch)\n",
    "plot(maxpixel(hs), klms=[ #\n",
    "    n\"C\", n\"O\", n\"Ag\", n\"Al\", n\"Ba\", n\"Ca\", n\"Cr\", n\"Cl\", n\"Fe\", #\n",
    "    n\"S\", n\"P\", n\"Cu\", n\"K\", n\"Mg\", n\"Mn\", n\"Na\", n\"Ni\", n\"Si\", #\n",
    "    n\"Ti\", n\"Zn\", n\"Os\" ], xmax=10.0e3)"
   ]
  },
  {
   "cell_type": "code",
   "execution_count": null,
   "metadata": {
    "collapsed": false,
    "jupyter": {
     "outputs_hidden": false,
     "source_hidden": false
    },
    "nteract": {
     "transient": {
      "deleting": false
     }
    }
   },
   "outputs": [],
   "source": [
    "plot(sum(hs), klms=[ #\n",
    "    n\"C\", n\"O\", n\"Ag\", n\"Al\", n\"Ba\", n\"Ca\", n\"Cr\", n\"Cl\", n\"Fe\", #\n",
    "    n\"S\", n\"P\", n\"Cu\", n\"K\", n\"Mg\", n\"Mn\", n\"Na\", n\"Ni\", n\"Si\", #\n",
    "    n\"Ti\", n\"Zn\", n\"Os\" ], xmax=10.0e3)"
   ]
  },
  {
   "cell_type": "markdown",
   "metadata": {
    "nteract": {
     "transient": {
      "deleting": false
     }
    }
   },
   "source": [
    "`display.(...)` is necessary because multiple images are generated.  A single image would automatically display."
   ]
  },
  {
   "cell_type": "code",
   "execution_count": null,
   "metadata": {
    "collapsed": false,
    "jupyter": {
     "outputs_hidden": false,
     "source_hidden": false
    },
    "nteract": {
     "transient": {
      "deleting": false
     }
    }
   },
   "outputs": [],
   "source": [
    "display.( [ hs[n\"Mn K-L3\"], hs[n\"O K-L3\"], hs[n\"S K-L3\"] ] );\n",
    "# Equivalent to [ roiimage(hs, n\"Mn K-L3\"), roiimage(hs, n\"O K-L3\"), roiimage(hs, n\"S K-L3\") ]"
   ]
  },
  {
   "cell_type": "code",
   "execution_count": null,
   "metadata": {
    "collapsed": false,
    "jupyter": {
     "outputs_hidden": false,
     "source_hidden": false
    },
    "nteract": {
     "transient": {
      "deleting": false
     }
    }
   },
   "outputs": [],
   "source": [
    "display.( hs[ [ n\"Mn K-L3\", n\"O K-L3\", n\"Si K-L3\"] ] );\n",
    "# Equivalent to roiimages(hs, [ n\"Mn K-L3\", n\"O K-L3\", n\"Si K-L3\"])"
   ]
  },
  {
   "cell_type": "code",
   "execution_count": null,
   "metadata": {
    "collapsed": false,
    "jupyter": {
     "outputs_hidden": false,
     "source_hidden": false
    },
    "nteract": {
     "transient": {
      "deleting": false
     }
    }
   },
   "outputs": [],
   "source": [
    "# Equivalent to colorize(hs, [ n\"Mn K-L3\", n\"O K-L3\", n\"C K-L2\" ], :All)\n",
    "# All transitions are normalized relative to the same value.\n",
    "hs[ ( n\"Mn K-L3\", n\"O K-L3\", n\"C K-L2\" ) ]"
   ]
  },
  {
   "cell_type": "code",
   "execution_count": null,
   "metadata": {
    "collapsed": false,
    "jupyter": {
     "outputs_hidden": false,
     "source_hidden": false
    },
    "nteract": {
     "transient": {
      "deleting": false
     }
    }
   },
   "outputs": [],
   "source": [
    "colorize(hs, [ n\"Mn K-L3\", n\"O K-L3\", n\"C K-L2\" ], :Each)\n",
    "# Each transition is normalized independently"
   ]
  },
  {
   "cell_type": "markdown",
   "metadata": {
    "nteract": {
     "transient": {
      "deleting": false
     }
    }
   },
   "source": [
    "QED - NWMR 5-5-2021"
   ]
  }
 ],
 "metadata": {
  "kernel_info": {
   "name": "julia-(4-threads)-1.6"
  },
  "kernelspec": {
   "display_name": "Julia (4 threads) 1.6",
   "language": "julia",
   "name": "julia-(4-threads)-1.6"
  },
  "language_info": {
   "file_extension": ".jl",
   "mimetype": "application/julia",
   "name": "julia",
   "version": "1.6.1"
  },
  "nteract": {
   "version": "0.28.0"
  }
 },
 "nbformat": 4,
 "nbformat_minor": 4
}
