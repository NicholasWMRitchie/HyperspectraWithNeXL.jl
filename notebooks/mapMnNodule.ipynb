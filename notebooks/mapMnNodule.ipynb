{
 "cells": [
  {
   "cell_type": "markdown",
   "source": [
    "# Count Maps\n",
    "\n",
    "This notebook demonstrates NeXLSpectrum's functionality for generating count maps.\n"
   ],
   "metadata": {
    "nteract": {
     "transient": {
      "deleting": false
     }
    }
   }
  },
  {
   "cell_type": "code",
   "execution_count": null,
   "source": [
    "using DrWatson\r\n",
    "@quickactivate(\"HyperspectraWithNeXL\")\r\n",
    "\r\n",
    "using HyperspectraWithNeXL\r\n",
    "using NeXLSpectrum\r\n",
    "using Gadfly, Unitful"
   ],
   "outputs": [],
   "metadata": {
    "nteract": {
     "transient": {
      "deleting": false
     }
    }
   }
  },
  {
   "cell_type": "markdown",
   "source": [
    "Load the hyperspectrum from the disk file pair \"map[15].rpl/.raw\"."
   ],
   "metadata": {
    "nteract": {
     "transient": {
      "deleting": false
     }
    }
   }
  },
  {
   "cell_type": "code",
   "execution_count": null,
   "source": [
    "lt = 0.72*4.0*18.0*3600.0/(1024*1024) # 18.0 hours on 4 detectors\r\n",
    "hs = NeXLSpectrum.compress(HyperSpectrum(\r\n",
    "    LinearEnergyScale(0.0,10.0), # Specify the energy axis scale\r\n",
    "    Dict{Symbol,Any}( # Define universal spectrum properties\r\n",
    "      :TakeOffAngle => deg2rad(35.0),\r\n",
    "      :ProbeCurrent => 1.0, \r\n",
    "      :LiveTime => lt, \r\n",
    "      :BeamEnergy => 20.0e3, \r\n",
    "      :Name => \"Mn Nodule\"\r\n",
    "    ),\r\n",
    "    readrplraw(joinpath(datadep\"MnNodule\",\"map[15]\")), # Load the data\r\n",
    "    fov = [ 4.096u\"mm\", 4.096u\"mm\"], offset= [ 0.0u\"mm\", 0.0u\"mm\" ]\r\n",
    "))"
   ],
   "outputs": [],
   "metadata": {
    "nteract": {
     "transient": {
      "deleting": false
     }
    }
   }
  },
  {
   "cell_type": "markdown",
   "source": [
    "Defining a detector will ensure the integration regions are the appropriate width.  (The default is 130 eV at Mn K-L3 otherwise.)"
   ],
   "metadata": {
    "nteract": {
     "transient": {
      "deleting": false
     }
    }
   }
  },
  {
   "cell_type": "code",
   "execution_count": null,
   "source": [
    "hs[:Detector] = matching(hs, 132.0)"
   ],
   "outputs": [],
   "metadata": {
    "nteract": {
     "transient": {
      "deleting": false
     }
    }
   }
  },
  {
   "cell_type": "code",
   "execution_count": null,
   "source": [
    "set_default_plot_size(10inch, 3inch)\r\n",
    "plot(maxpixel(hs), klms=[ #\r\n",
    "    n\"C\", n\"O\", n\"Ag\", n\"Al\", n\"Ba\", n\"Ca\", n\"Cr\", n\"Cl\", n\"Fe\", #\r\n",
    "    n\"S\", n\"P\", n\"Cu\", n\"K\", n\"Mg\", n\"Mn\", n\"Na\", n\"Ni\", n\"Si\", #\r\n",
    "    n\"Ti\", n\"Zn\", n\"Os\" ], xmax=10.0e3)"
   ],
   "outputs": [],
   "metadata": {
    "collapsed": false,
    "jupyter": {
     "outputs_hidden": false,
     "source_hidden": false
    },
    "nteract": {
     "transient": {
      "deleting": false
     }
    }
   }
  },
  {
   "cell_type": "code",
   "execution_count": null,
   "source": [
    "plot(sum(hs), klms=[ #\r\n",
    "    n\"C\", n\"O\", n\"Ag\", n\"Al\", n\"Ba\", n\"Ca\", n\"Cr\", n\"Cl\", n\"Fe\", #\r\n",
    "    n\"S\", n\"P\", n\"Cu\", n\"K\", n\"Mg\", n\"Mn\", n\"Na\", n\"Ni\", n\"Si\", #\r\n",
    "    n\"Ti\", n\"Zn\", n\"Os\" ], xmax=10.0e3)"
   ],
   "outputs": [],
   "metadata": {
    "collapsed": false,
    "jupyter": {
     "outputs_hidden": false,
     "source_hidden": false
    },
    "nteract": {
     "transient": {
      "deleting": false
     }
    }
   }
  },
  {
   "cell_type": "markdown",
   "source": [
    "`display.(...)` is necessary because multiple images are generated.  A single image would automatically display."
   ],
   "metadata": {
    "nteract": {
     "transient": {
      "deleting": false
     }
    }
   }
  },
  {
   "cell_type": "code",
   "execution_count": null,
   "source": [
    "display.( [ hs[n\"Mn K-L3\"], hs[n\"O K-L3\"], hs[n\"S K-L3\"] ] );\r\n",
    "# Equivalent to [ roiimage(hs, n\"Mn K-L3\"), roiimage(hs, n\"O K-L3\"), roiimage(hs, n\"S K-L3\") ]"
   ],
   "outputs": [],
   "metadata": {
    "collapsed": false,
    "jupyter": {
     "outputs_hidden": false,
     "source_hidden": false
    },
    "nteract": {
     "transient": {
      "deleting": false
     }
    }
   }
  },
  {
   "cell_type": "code",
   "execution_count": null,
   "source": [
    "display.( hs[ [ n\"Mn K-L3\", n\"O K-L3\", n\"Si K-L3\"] ] );\r\n",
    "# Equivalent to roiimages(hs, [ n\"Mn K-L3\", n\"O K-L3\", n\"Si K-L3\"])"
   ],
   "outputs": [],
   "metadata": {
    "collapsed": false,
    "jupyter": {
     "outputs_hidden": false,
     "source_hidden": false
    },
    "nteract": {
     "transient": {
      "deleting": false
     }
    }
   }
  },
  {
   "cell_type": "code",
   "execution_count": null,
   "source": [
    "# All transitions are normalized relative to the same value.\r\n",
    "colorize(hs, [ n\"Mn K-L3\", n\"O K-L3\", n\"C K-L2\" ], :All)"
   ],
   "outputs": [],
   "metadata": {
    "collapsed": false,
    "jupyter": {
     "outputs_hidden": false,
     "source_hidden": false
    },
    "nteract": {
     "transient": {
      "deleting": false
     }
    }
   }
  },
  {
   "cell_type": "code",
   "execution_count": null,
   "source": [
    "# Equivalent to colorize(hs, [ n\"Mn K-L3\", n\"O K-L3\", n\"C K-L2\" ], :Each)\r\n",
    "hs[ n\"Mn K-L3\", n\"O K-L3\", n\"C K-L2\" ]\r\n",
    "# Each transition is normalized independently"
   ],
   "outputs": [],
   "metadata": {
    "collapsed": false,
    "jupyter": {
     "outputs_hidden": false,
     "source_hidden": false
    },
    "nteract": {
     "transient": {
      "deleting": false
     }
    }
   }
  },
  {
   "cell_type": "markdown",
   "source": [
    "QED - NWMR 9/23/2021"
   ],
   "metadata": {
    "nteract": {
     "transient": {
      "deleting": false
     }
    }
   }
  }
 ],
 "metadata": {
  "kernel_info": {
   "name": "julia-(4-threads)-1.6"
  },
  "kernelspec": {
   "display_name": "Julia (4 threads) 1.7",
   "language": "julia",
   "name": "julia-(4-threads)-1.7"
  },
  "language_info": {
   "file_extension": ".jl",
   "name": "julia",
   "mimetype": "application/julia",
   "version": "1.7.0"
  },
  "nteract": {
   "version": "0.28.0"
  }
 },
 "nbformat": 4,
 "nbformat_minor": 4
}