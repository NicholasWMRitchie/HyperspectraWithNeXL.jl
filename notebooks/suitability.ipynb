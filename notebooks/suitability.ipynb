{
  "cells": [
    {
      "cell_type": "code",
      "execution_count": null,
      "metadata": {
        "collapsed": true,
        "execution": {
          "iopub.execute_input": "2021-04-16T11:25:54.881Z",
          "iopub.status.busy": "2021-04-16T11:25:54.168Z",
          "iopub.status.idle": "2021-04-16T11:25:55.729Z"
        },
        "jupyter": {
          "outputs_hidden": false,
          "source_hidden": false
        },
        "nteract": {
          "transient": {
            "deleting": false
          }
        }
      },
      "outputs": [],
      "source": [
        "using DrWatson\n",
        "@quickactivate \"HyperspectraWithNeXL\""
      ]
    },
    {
      "cell_type": "code",
      "execution_count": null,
      "metadata": {
        "collapsed": true,
        "execution": {
          "iopub.execute_input": "2021-04-16T11:25:55.744Z",
          "iopub.status.busy": "2021-04-16T11:25:55.738Z",
          "iopub.status.idle": "2021-04-16T11:26:10.626Z"
        },
        "jupyter": {
          "outputs_hidden": false,
          "source_hidden": false
        },
        "nteract": {
          "transient": {
            "deleting": false
          }
        }
      },
      "outputs": [],
      "source": [
        "using NeXLSpectrum"
      ]
    },
    {
      "cell_type": "code",
      "execution_count": null,
      "metadata": {
        "collapsed": true,
        "execution": {
          "iopub.execute_input": "2021-04-16T11:26:11.939Z",
          "iopub.status.busy": "2021-04-16T11:26:10.634Z",
          "iopub.status.idle": "2021-04-16T11:26:13.670Z"
        },
        "jupyter": {
          "outputs_hidden": false,
          "source_hidden": false
        },
        "nteract": {
          "transient": {
            "deleting": false
          }
        }
      },
      "outputs": [],
      "source": [
        "det = BasicEDS(4096, 0.0, 10.0, 132.0, 10, \n",
        "         Dict(KShell=>n\"B\", LShell=>n\"Ca\", MShell=>n\"Cs\"))"
      ]
    },
    {
      "cell_type": "code",
      "execution_count": null,
      "metadata": {
        "collapsed": true,
        "execution": {
          "iopub.execute_input": "2021-04-16T11:26:13.690Z",
          "iopub.status.busy": "2021-04-16T11:26:13.683Z",
          "iopub.status.idle": "2021-04-16T11:26:52.712Z"
        },
        "jupyter": {
          "outputs_hidden": false,
          "source_hidden": false
        },
        "nteract": {
          "transient": {
            "deleting": false
          }
        }
      },
      "outputs": [],
      "source": [
        "suitability(n\"Ba\",det)"
      ]
    },
    {
      "cell_type": "code",
      "execution_count": null,
      "metadata": {
        "collapsed": true,
        "execution": {
          "iopub.execute_input": "2021-04-16T11:27:59.080Z",
          "iopub.status.busy": "2021-04-16T11:27:59.073Z",
          "iopub.status.idle": "2021-04-16T11:27:59.090Z"
        },
        "jupyter": {
          "outputs_hidden": false,
          "source_hidden": false
        },
        "nteract": {
          "transient": {
            "deleting": false
          }
        }
      },
      "outputs": [],
      "source": [
        "using PrettyTables, InvertedIndices\n",
        "\n",
        "sbal = suitability(n\"Ba\",det, latex=true)\n",
        "\n",
        "mkpath(joinpath(papersdir(), \"Tables\", \"Table 3\"))\n",
        "open(joinpath(papersdir(), \"Tables\", \"Table 3\", \"BaSuitability.tex\"),\"w\") do io\n",
        "  pretty_table(io, sbal[:, Not(:MassFrac)],\n",
        "            nosubheader=true, backend=:latex, \n",
        "            label=\"tbl:barefs\",\n",
        "            title = raw\"\"\"\n",
        "            An example of the \\jlinl{suitablility(...)} function for the element \\ce{Ba} on a typical \n",
        "            performance SDD -- \\SI{10.0}{\\eV\\per channel} and a resolution of \\SI{132.0}{\\eV} at \\ce{Mn} K-L$_3$.  \n",
        "            A \\checkmark\\xspace indicates that the material is suitable as a reference for the specified family \n",
        "            of characteristic X-rays.  An \\xmark\\xspace indicates that one or more interferences with an other \n",
        "            element in the material makes it unsuitable.  \\ce{Ba} is a particular challenge because the M-lines \n",
        "            cover a broad range of energies in common with ubiquitous light elements like \\ce{O} and \\ce{F}. \n",
        "            The \\ce{Ti} K-family is a well-known interference with the \\ce{Ba} L-family.\"\"\"\n",
        "  )\n",
        "end"
      ]
    },
    {
      "cell_type": "code",
      "execution_count": null,
      "metadata": {
        "collapsed": true,
        "jupyter": {
          "outputs_hidden": false,
          "source_hidden": false
        },
        "nteract": {
          "transient": {
            "deleting": false
          }
        }
      },
      "outputs": [],
      "source": []
    }
  ],
  "metadata": {
    "kernel_info": {
      "name": "julia-(4-threads)-1.6"
    },
    "kernelspec": {
      "argv": [
        "C:\\Users\\nritchie\\AppData\\Local\\Programs\\Julia-1.6.0\\bin\\julia.exe",
        "-i",
        "--color=yes",
        "C:\\Users\\nritchie\\.julia\\packages\\IJulia\\e8kqU\\src\\kernel.jl",
        "{connection_file}"
      ],
      "display_name": "Julia (4 threads) 1.6.0",
      "env": {
        "JULIA_NUM_THREADS": "4"
      },
      "interrupt_mode": "message",
      "language": "julia",
      "name": "julia-(4-threads)-1.6"
    },
    "language_info": {
      "file_extension": ".jl",
      "mimetype": "application/julia",
      "name": "julia",
      "version": "1.6.0"
    },
    "nteract": {
      "version": "0.28.0"
    }
  },
  "nbformat": 4,
  "nbformat_minor": 2
}
