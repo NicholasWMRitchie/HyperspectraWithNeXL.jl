{
  "cells": [
    {
      "cell_type": "code",
      "source": [
        "using DrWatson\n",
        "@quickactivate \"HyperspectraWithNeXL\""
      ],
      "outputs": [
        {
          "output_type": "stream",
          "name": "stderr",
          "text": [
            "\u001b[32m\u001b[1m  Activating\u001b[22m\u001b[39m environment at `C:\\Users\\nritchie\\Desktop\\HyperspectraWithNeXL\\Project.toml`\n"
          ]
        }
      ],
      "execution_count": 1,
      "metadata": {
        "collapsed": true,
        "jupyter": {
          "source_hidden": false,
          "outputs_hidden": false
        },
        "nteract": {
          "transient": {
            "deleting": false
          }
        },
        "execution": {
          "iopub.status.busy": "2021-04-16T11:25:54.168Z",
          "iopub.execute_input": "2021-04-16T11:25:54.881Z",
          "iopub.status.idle": "2021-04-16T11:25:55.729Z"
        }
      }
    },
    {
      "cell_type": "code",
      "source": [
        "using NeXLSpectrum"
      ],
      "outputs": [],
      "execution_count": 2,
      "metadata": {
        "collapsed": true,
        "jupyter": {
          "source_hidden": false,
          "outputs_hidden": false
        },
        "nteract": {
          "transient": {
            "deleting": false
          }
        },
        "execution": {
          "iopub.status.busy": "2021-04-16T11:25:55.738Z",
          "iopub.execute_input": "2021-04-16T11:25:55.744Z",
          "iopub.status.idle": "2021-04-16T11:26:10.626Z"
        }
      }
    },
    {
      "cell_type": "code",
      "source": [
        "det = BasicEDS(4096, 0.0, 10.0, 132.0, 10, \n",
        "         Dict(KShell=>n\"B\", LShell=>n\"Ca\", MShell=>n\"Cs\"))"
      ],
      "outputs": [
        {
          "output_type": "execute_result",
          "execution_count": 3,
          "data": {
            "text/plain": "BasicEDS[4096 chs, E[ch] = 0.0 + 10.0⋅ch, 132.0 eV @ Mn K-L3, 10 ch LLD, [B,Ca,Cs,Pu]]"
          },
          "metadata": {}
        }
      ],
      "execution_count": 3,
      "metadata": {
        "collapsed": true,
        "jupyter": {
          "source_hidden": false,
          "outputs_hidden": false
        },
        "nteract": {
          "transient": {
            "deleting": false
          }
        },
        "execution": {
          "iopub.status.busy": "2021-04-16T11:26:10.634Z",
          "iopub.execute_input": "2021-04-16T11:26:11.939Z",
          "iopub.status.idle": "2021-04-16T11:26:13.670Z"
        }
      }
    },
    {
      "cell_type": "code",
      "source": [
        "suitability(n\"Ba\",det)"
      ],
      "outputs": [
        {
          "output_type": "execute_result",
          "execution_count": 4,
          "data": {
            "text/plain": "\u001b[1m9×4 DataFrame\u001b[0m\n\u001b[1m Row \u001b[0m│\u001b[1m Material    \u001b[0m\u001b[1m Count \u001b[0m\u001b[1m Ba M5-N3 + 16 others \u001b[0m\u001b[1m Ba L3-M5 + 27 others \u001b[0m\n\u001b[1m     \u001b[0m│\u001b[90m String      \u001b[0m\u001b[90m Int64 \u001b[0m\u001b[90m String               \u001b[0m\u001b[90m String               \u001b[0m\n─────┼────────────────────────────────────────────────────────────────\n   1 │ BaCl2            2  ✓                     ✓\n   2 │ BaF2             1  ✗                     ✓\n   3 │ SrBaNb4O12       1  ✗                     ✓\n   4 │ Ba2NaNb5O15      1  ✗                     ✓\n   5 │ BaSO4            1  ✗                     ✓\n   6 │ Ba(NO3)2         1  ✗                     ✓\n   7 │ BaTiSi3O9        0  ✗                     ✗\n   8 │ BaTiO3           0  ✗                     ✗\n   9 │ BaTi4O9          0  ✗                     ✗",
            "text/html": "<table class=\"data-frame\"><thead><tr><th></th><th>Material</th><th>Count</th><th>Ba M5-N3 + 16 others</th><th>Ba L3-M5 + 27 others</th></tr><tr><th></th><th>String</th><th>Int64</th><th>String</th><th>String</th></tr></thead><tbody><p>9 rows × 4 columns</p><tr><th>1</th><td>BaCl2</td><td>2</td><td>✓</td><td>✓</td></tr><tr><th>2</th><td>BaF2</td><td>1</td><td>✗</td><td>✓</td></tr><tr><th>3</th><td>SrBaNb4O12</td><td>1</td><td>✗</td><td>✓</td></tr><tr><th>4</th><td>Ba2NaNb5O15</td><td>1</td><td>✗</td><td>✓</td></tr><tr><th>5</th><td>BaSO4</td><td>1</td><td>✗</td><td>✓</td></tr><tr><th>6</th><td>Ba(NO3)2</td><td>1</td><td>✗</td><td>✓</td></tr><tr><th>7</th><td>BaTiSi3O9</td><td>0</td><td>✗</td><td>✗</td></tr><tr><th>8</th><td>BaTiO3</td><td>0</td><td>✗</td><td>✗</td></tr><tr><th>9</th><td>BaTi4O9</td><td>0</td><td>✗</td><td>✗</td></tr></tbody></table>",
            "text/latex": "\\begin{tabular}{r|cccc}\n\t& Material & Count & Ba M5-N3 + 16 others & Ba L3-M5 + 27 others\\\\\n\t\\hline\n\t& String & Int64 & String & String\\\\\n\t\\hline\n\t1 & BaCl2 & 2 & ✓ & ✓ \\\\\n\t2 & BaF2 & 1 & ✗ & ✓ \\\\\n\t3 & SrBaNb4O12 & 1 & ✗ & ✓ \\\\\n\t4 & Ba2NaNb5O15 & 1 & ✗ & ✓ \\\\\n\t5 & BaSO4 & 1 & ✗ & ✓ \\\\\n\t6 & Ba(NO3)2 & 1 & ✗ & ✓ \\\\\n\t7 & BaTiSi3O9 & 0 & ✗ & ✗ \\\\\n\t8 & BaTiO3 & 0 & ✗ & ✗ \\\\\n\t9 & BaTi4O9 & 0 & ✗ & ✗ \\\\\n\\end{tabular}\n"
          },
          "metadata": {}
        }
      ],
      "execution_count": 4,
      "metadata": {
        "collapsed": true,
        "jupyter": {
          "source_hidden": false,
          "outputs_hidden": false
        },
        "nteract": {
          "transient": {
            "deleting": false
          }
        },
        "execution": {
          "iopub.status.busy": "2021-04-16T11:26:13.683Z",
          "iopub.execute_input": "2021-04-16T11:26:13.690Z",
          "iopub.status.idle": "2021-04-16T11:26:52.712Z"
        }
      }
    },
    {
      "cell_type": "code",
      "source": [
        "using PrettyTables\n",
        "open(joinpath(papersdir(),\"Tables\",\"BaSuitability.ltx\"),\"w\") do io\n",
        "  pretty_table(io, suitability(n\"Ba\",det, latex=true),\n",
        "            nosubheader=true, backend=:latex, \n",
        "            label=\"tbl:barefs\")\n",
        "end"
      ],
      "outputs": [],
      "execution_count": 7,
      "metadata": {
        "collapsed": true,
        "jupyter": {
          "source_hidden": false,
          "outputs_hidden": false
        },
        "nteract": {
          "transient": {
            "deleting": false
          }
        },
        "execution": {
          "iopub.status.busy": "2021-04-16T11:27:59.073Z",
          "iopub.execute_input": "2021-04-16T11:27:59.080Z",
          "iopub.status.idle": "2021-04-16T11:27:59.090Z"
        }
      }
    },
    {
      "cell_type": "code",
      "source": [],
      "outputs": [],
      "execution_count": null,
      "metadata": {
        "collapsed": true,
        "jupyter": {
          "source_hidden": false,
          "outputs_hidden": false
        },
        "nteract": {
          "transient": {
            "deleting": false
          }
        }
      }
    }
  ],
  "metadata": {
    "kernel_info": {
      "name": "julia-(4-threads)-1.6"
    },
    "language_info": {
      "file_extension": ".jl",
      "name": "julia",
      "mimetype": "application/julia",
      "version": "1.6.0"
    },
    "kernelspec": {
      "argv": [
        "C:\\Users\\nritchie\\AppData\\Local\\Programs\\Julia-1.6.0\\bin\\julia.exe",
        "-i",
        "--color=yes",
        "C:\\Users\\nritchie\\.julia\\packages\\IJulia\\e8kqU\\src\\kernel.jl",
        "{connection_file}"
      ],
      "display_name": "Julia (4 threads) 1.6.0",
      "env": {
        "JULIA_NUM_THREADS": "4"
      },
      "interrupt_mode": "message",
      "language": "julia",
      "name": "julia-(4-threads)-1.6"
    },
    "nteract": {
      "version": "0.28.0"
    }
  },
  "nbformat": 4,
  "nbformat_minor": 0
}