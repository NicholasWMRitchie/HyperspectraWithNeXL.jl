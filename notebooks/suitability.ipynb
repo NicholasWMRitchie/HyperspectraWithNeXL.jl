{
  "cells": [
    {
      "cell_type": "code",
      "execution_count": null,
      "source": [
        "using DrWatson\r\n",
        "@quickactivate \"HyperspectraWithNeXL\""
      ],
      "outputs": [],
      "metadata": {
        "collapsed": true,
        "jupyter": {
          "source_hidden": false,
          "outputs_hidden": false
        },
        "nteract": {
          "transient": {
            "deleting": false
          }
        },
        "execution": {
          "iopub.status.busy": "2021-04-16T11:25:54.168Z",
          "iopub.execute_input": "2021-04-16T11:25:54.881Z",
          "iopub.status.idle": "2021-04-16T11:25:55.729Z"
        }
      }
    },
    {
      "cell_type": "code",
      "execution_count": null,
      "source": [
        "using NeXLSpectrum"
      ],
      "outputs": [],
      "metadata": {
        "collapsed": true,
        "jupyter": {
          "source_hidden": false,
          "outputs_hidden": false
        },
        "nteract": {
          "transient": {
            "deleting": false
          }
        },
        "execution": {
          "iopub.status.busy": "2021-04-16T11:25:55.738Z",
          "iopub.execute_input": "2021-04-16T11:25:55.744Z",
          "iopub.status.idle": "2021-04-16T11:26:10.626Z"
        }
      }
    },
    {
      "cell_type": "code",
      "execution_count": null,
      "source": [
        "det = BasicEDS(4096, 0.0, 10.0, 132.0, 10, \r\n",
        "         Dict(KShell=>n\"B\", LShell=>n\"Ca\", MShell=>n\"Cs\"))"
      ],
      "outputs": [],
      "metadata": {
        "collapsed": true,
        "jupyter": {
          "source_hidden": false,
          "outputs_hidden": false
        },
        "nteract": {
          "transient": {
            "deleting": false
          }
        },
        "execution": {
          "iopub.status.busy": "2021-04-16T11:26:10.634Z",
          "iopub.execute_input": "2021-04-16T11:26:11.939Z",
          "iopub.status.idle": "2021-04-16T11:26:13.670Z"
        }
      }
    },
    {
      "cell_type": "code",
      "execution_count": null,
      "source": [
        "suitability(n\"Ba\",det)"
      ],
      "outputs": [],
      "metadata": {
        "collapsed": true,
        "jupyter": {
          "source_hidden": false,
          "outputs_hidden": false
        },
        "nteract": {
          "transient": {
            "deleting": false
          }
        },
        "execution": {
          "iopub.status.busy": "2021-04-16T11:26:13.683Z",
          "iopub.execute_input": "2021-04-16T11:26:13.690Z",
          "iopub.status.idle": "2021-04-16T11:26:52.712Z"
        }
      }
    },
    {
      "cell_type": "code",
      "execution_count": null,
      "source": [
        "using PrettyTables\r\n",
        "open(joinpath(papersdir(),\"Tables\",\"BaSuitability.ltx\"),\"w\") do io\r\n",
        "  pretty_table(io, suitability(n\"Ba\",det, latex=true),\r\n",
        "            nosubheader=true, backend=:latex, \r\n",
        "            label=\"tbl:barefs\")\r\n",
        "end"
      ],
      "outputs": [],
      "metadata": {
        "collapsed": true,
        "jupyter": {
          "source_hidden": false,
          "outputs_hidden": false
        },
        "nteract": {
          "transient": {
            "deleting": false
          }
        },
        "execution": {
          "iopub.status.busy": "2021-04-16T11:27:59.073Z",
          "iopub.execute_input": "2021-04-16T11:27:59.080Z",
          "iopub.status.idle": "2021-04-16T11:27:59.090Z"
        }
      }
    },
    {
      "cell_type": "code",
      "execution_count": null,
      "source": [],
      "outputs": [],
      "metadata": {
        "collapsed": true,
        "jupyter": {
          "source_hidden": false,
          "outputs_hidden": false
        },
        "nteract": {
          "transient": {
            "deleting": false
          }
        }
      }
    }
  ],
  "metadata": {
    "kernel_info": {
      "name": "julia-(4-threads)-1.6"
    },
    "language_info": {
      "file_extension": ".jl",
      "name": "julia",
      "mimetype": "application/julia",
      "version": "1.6.0"
    },
    "kernelspec": {
      "argv": [
        "C:\\Users\\nritchie\\AppData\\Local\\Programs\\Julia-1.6.0\\bin\\julia.exe",
        "-i",
        "--color=yes",
        "C:\\Users\\nritchie\\.julia\\packages\\IJulia\\e8kqU\\src\\kernel.jl",
        "{connection_file}"
      ],
      "display_name": "Julia (4 threads) 1.6.0",
      "env": {
        "JULIA_NUM_THREADS": "4"
      },
      "interrupt_mode": "message",
      "language": "julia",
      "name": "julia-(4-threads)-1.6"
    },
    "nteract": {
      "version": "0.28.0"
    }
  },
  "nbformat": 4,
  "nbformat_minor": 2
}