{
 "cells": [
  {
   "cell_type": "markdown",
   "metadata": {
    "nteract": {
     "transient": {
      "deleting": false
     }
    }
   },
   "source": [
    "# K2496 example\n",
    "\n",
    "Quantify K2496, a Ba, Ti, Si and O containing engineered glass."
   ]
  },
  {
   "cell_type": "code",
   "execution_count": null,
   "metadata": {
    "collapsed": false,
    "jupyter": {
     "outputs_hidden": false,
     "source_hidden": false
    },
    "nteract": {
     "transient": {
      "deleting": false
     }
    }
   },
   "outputs": [],
   "source": [
    "# Load DrWatson project manager and enable custom environment\n",
    "using DrWatson\n",
    "@quickactivate(\"HyperspectraWithNeXL\")\n",
    "# Load 3rd party libraries for plotting and tabulation\n",
    "using Gadfly, DataFrames\n",
    "# Load the necessary NeXL libraries\n",
    "using Revise\n",
    "using NeXLSpectrum\n",
    "\n",
    "\n",
    "path = joinpath(datadir(),\"exp_raw\",\"K2496\")\n",
    "# Read the spectra from disk\n",
    "k2496 = loadspectrum.(joinpath(path,\"K2496_$(i).msa\") for i in 1:3)\n",
    "# Plot them using a method of Gadfly.plot(...) specialized for Spectrum items\n",
    "set_default_plot_size(8inch,3inch)\n",
    "plot(k2496..., klms=[ n\"O\", n\"Si\", n\"Ti\", n\"Ba\" ], xmax=6.0e3)"
   ]
  },
  {
   "cell_type": "markdown",
   "metadata": {
    "nteract": {
     "transient": {
      "deleting": false
     }
    }
   },
   "source": [
    "Define a BasicEDS detector object with the properties of the measurement device.  Then apply the detector to the measured spectra."
   ]
  },
  {
   "cell_type": "code",
   "execution_count": null,
   "metadata": {
    "collapsed": false,
    "jupyter": {
     "outputs_hidden": false,
     "source_hidden": false
    },
    "nteract": {
     "transient": {
      "deleting": false
     }
    }
   },
   "outputs": [],
   "source": [
    "det = BasicEDS(4096, -480.40409, 5.00525, 132.0, 110, \n",
    "         Dict(KShell=>n\"B\", LShell=>n\"Ca\", MShell=>n\"Cs\"))\n",
    "k2496 = map(s->apply(s,det), k2496)\n",
    "det"
   ]
  },
  {
   "cell_type": "markdown",
   "metadata": {
    "nteract": {
     "transient": {
      "deleting": false
     }
    }
   },
   "source": [
    "Compute the filtered reference spectra from the standards.  In this case, we are using \"BaCl2 std.msa\" for all Ba lines and then we will use Sanbornite as a standard for O, Si and Ba."
   ]
  },
  {
   "cell_type": "code",
   "execution_count": null,
   "metadata": {
    "collapsed": false,
    "jupyter": {
     "outputs_hidden": false,
     "source_hidden": false
    },
    "nteract": {
     "transient": {
      "deleting": false
     }
    }
   },
   "outputs": [],
   "source": [
    "refs = references([\n",
    "  reference(n\"Si\", joinpath(path,\"Si std.msa\"), mat\"Si\"),\n",
    "  reference(n\"Ba\", joinpath(path,\"BaCl2 std.msa\"), mat\"BaCl2\"),\n",
    "  reference(n\"O\", joinpath(path,\"MgO std.msa\"), mat\"MgO\"),\n",
    "  reference(n\"Ti\", joinpath(path,\"Ti std.msa\"), mat\"Ti\") ], det)\n",
    "ENV[\"columns\"]=400\n",
    "asa(DataFrame, refs)"
   ]
  },
  {
   "cell_type": "markdown",
   "metadata": {
    "nteract": {
     "transient": {
      "deleting": false
     }
    }
   },
   "source": [
    "Fit (fit_spectra(...)) and then matrix correct (quantify(...)) the unknown spectra."
   ]
  },
  {
   "cell_type": "markdown",
   "metadata": {
    "nteract": {
     "transient": {
      "deleting": false
     }
    }
   },
   "source": [
    "If we fit these references to the K2496 directly and then quantify, the results are ??????"
   ]
  },
  {
   "cell_type": "code",
   "execution_count": null,
   "metadata": {
    "collapsed": false,
    "jupyter": {
     "outputs_hidden": false,
     "source_hidden": false
    },
    "nteract": {
     "transient": {
      "deleting": false
     }
    }
   },
   "outputs": [],
   "source": [
    "fs=fit_spectrum(k2496, refs)\n",
    "asa(DataFrame, fs, withUnc=true)"
   ]
  },
  {
   "cell_type": "code",
   "execution_count": null,
   "metadata": {
    "collapsed": false,
    "jupyter": {
     "outputs_hidden": false,
     "source_hidden": false
    },
    "nteract": {
     "transient": {
      "deleting": false
     }
    }
   },
   "outputs": [],
   "source": [
    "q=quantify.(fs)\n",
    "asa(DataFrame, q, nominal=parse(Material,\"0.323*O+0.2291*Si+0.018*Ti+0.4299*Ba\",name=\"K2496 nominal\"))"
   ]
  },
  {
   "cell_type": "markdown",
   "metadata": {
    "nteract": {
     "transient": {
      "deleting": false
     }
    }
   },
   "source": [
    "Now we turn our attention to the standard \"Sanbornite.\"  We will fit our references to Sanbornite."
   ]
  },
  {
   "cell_type": "code",
   "execution_count": null,
   "metadata": {
    "collapsed": false,
    "jupyter": {
     "outputs_hidden": false,
     "source_hidden": false
    },
    "nteract": {
     "transient": {
      "deleting": false
     }
    }
   },
   "outputs": [],
   "source": [
    "refs2 = references( [\n",
    "  reference(n\"Si\", joinpath(path,\"Si std.msa\"), mat\"Si\"),\n",
    "  reference(n\"Ba\", joinpath(path,\"BaCl2 std.msa\"), mat\"BaCl2\"),\n",
    "  reference(n\"O\", joinpath(path,\"MgO std.msa\"), mat\"MgO\") ], det);\n",
    "sanbornite = loadspectrum(joinpath(path,\"Sanbornite std.msa\"))\n",
    "sanbornite_std = fit_spectrum(apply(sanbornite, det), refs2)\n",
    "asa(DataFrame, [ sanbornite_std ], withUnc=true)"
   ]
  },
  {
   "cell_type": "code",
   "execution_count": null,
   "metadata": {
    "collapsed": false,
    "jupyter": {
     "outputs_hidden": false,
     "source_hidden": false
    },
    "nteract": {
     "transient": {
      "deleting": false
     }
    }
   },
   "outputs": [],
   "source": [
    "fs_stds = [ standardize(fsi, sanbornite_std, mat\"BaSi2O5\") for fsi in fs]\n",
    "asa(DataFrame, fs_stds, withUnc=true)"
   ]
  },
  {
   "cell_type": "code",
   "execution_count": null,
   "metadata": {
    "collapsed": false,
    "jupyter": {
     "outputs_hidden": false,
     "source_hidden": false
    },
    "nteract": {
     "transient": {
      "deleting": false
     }
    }
   },
   "outputs": [],
   "source": [
    "krs=kratios(sanbornite_std)"
   ]
  },
  {
   "cell_type": "code",
   "execution_count": null,
   "metadata": {
    "collapsed": false,
    "jupyter": {
     "outputs_hidden": false,
     "source_hidden": false
    },
    "nteract": {
     "transient": {
      "deleting": false
     }
    }
   },
   "outputs": [],
   "source": [
    "krs[1].unkProps"
   ]
  },
  {
   "cell_type": "code",
   "execution_count": null,
   "metadata": {
    "collapsed": false,
    "jupyter": {
     "outputs_hidden": false,
     "source_hidden": false
    },
    "nteract": {
     "transient": {
      "deleting": false
     }
    }
   },
   "outputs": [],
   "source": [
    "q_stds = quantify.(fs_stds)\n",
    "asa(DataFrame, q_stds, nominal=parse(Material,\"0.323*O+0.2291*Si+0.018*Ti+0.4299*Ba\",name=\"K2496 nominal\"))"
   ]
  },
  {
   "cell_type": "markdown",
   "metadata": {
    "nteract": {
     "transient": {
      "deleting": false
     }
    }
   },
   "source": [
    "fs is a vector of FilterFitResult items.  Plotting a FilterFitResult shows the raw spectral data (blue), the residual spectrum (red) and the rois and k-ratios in grey above the peaks."
   ]
  },
  {
   "cell_type": "code",
   "execution_count": null,
   "metadata": {
    "collapsed": false,
    "jupyter": {
     "outputs_hidden": false,
     "source_hidden": false
    },
    "nteract": {
     "transient": {
      "deleting": false
     }
    }
   },
   "outputs": [],
   "source": [
    "display(plot(fs[1]))"
   ]
  },
  {
   "cell_type": "code",
   "execution_count": null,
   "metadata": {
    "collapsed": false,
    "jupyter": {
     "outputs_hidden": false,
     "source_hidden": false
    },
    "nteract": {
     "transient": {
      "deleting": false
     }
    }
   },
   "outputs": [],
   "source": [
    "display(plot(fs_stds[1]))"
   ]
  },
  {
   "cell_type": "code",
   "execution_count": null,
   "metadata": {
    "collapsed": false,
    "jupyter": {
     "outputs_hidden": false,
     "source_hidden": false
    },
    "nteract": {
     "transient": {
      "deleting": false
     }
    }
   },
   "outputs": [],
   "source": [
    "asa(DataFrame, fs_stds[1])"
   ]
  },
  {
   "cell_type": "markdown",
   "metadata": {
    "nteract": {
     "transient": {
      "deleting": false
     }
    }
   },
   "source": [
    "The plot may be saved in various formats (including SVG, PNG and PDF)."
   ]
  },
  {
   "cell_type": "code",
   "execution_count": null,
   "metadata": {
    "collapsed": false,
    "jupyter": {
     "outputs_hidden": false,
     "source_hidden": false
    },
    "nteract": {
     "transient": {
      "deleting": false
     }
    }
   },
   "outputs": [],
   "source": [
    "using Cairo, Fontconfig\n",
    "plot(fs_stds[1]) |> SVG(joinpath(plotsdir(), \"K2496 residual - sanbornite using BaCl2.svg\"), 8inch, 3inch)\n",
    "plot(fs_stds[1]) |> PNG(joinpath(plotsdir(), \"K2496 residual - sanbornite using BaCl2.png\"), 8inch, 3inch)\n",
    "plot(fs_stds[1]) |> PDF(joinpath(plotsdir(), \"K2496 residual - sanbornite using BaCl2.pdf\"), 8inch, 3inch)"
   ]
  },
  {
   "cell_type": "markdown",
   "metadata": {
    "nteract": {
     "transient": {
      "deleting": false
     }
    }
   },
   "source": [
    "Output the quant results.  Write the results to a CSV file."
   ]
  },
  {
   "cell_type": "code",
   "execution_count": null,
   "metadata": {
    "collapsed": false,
    "jupyter": {
     "outputs_hidden": false,
     "source_hidden": false
    },
    "nteract": {
     "transient": {
      "deleting": false
     }
    }
   },
   "outputs": [],
   "source": [
    "df = asa(DataFrame, q, nominal=parse(Material,\"0.323*O+0.2291*Si+0.018*Ti+0.4299*Ba\",name=\"K2496 nominal\"))\n",
    "using CSV\n",
    "CSV.write(joinpath(datadir(),\"exp_pro\",\"K2496 quant - sanbornite using BaCl2.csv\"), df)\n",
    "df"
   ]
  },
  {
   "cell_type": "code",
   "execution_count": null,
   "metadata": {
    "collapsed": false,
    "jupyter": {
     "outputs_hidden": false,
     "source_hidden": false
    },
    "nteract": {
     "transient": {
      "deleting": false
     }
    }
   },
   "outputs": [],
   "source": [
    "describe(asa(DataFrame, q)[:,2:end], :mean, :std)"
   ]
  },
  {
   "cell_type": "markdown",
   "metadata": {
    "nteract": {
     "transient": {
      "deleting": false
     }
    }
   },
   "source": [
    "Tabulating a single IterationResult item provides extensive analysis details including uncertainties and matrix correction factors."
   ]
  },
  {
   "cell_type": "code",
   "execution_count": null,
   "metadata": {
    "collapsed": false,
    "jupyter": {
     "outputs_hidden": false,
     "source_hidden": false
    },
    "nteract": {
     "transient": {
      "deleting": false
     }
    }
   },
   "outputs": [],
   "source": [
    "asa(DataFrame, q[1])"
   ]
  },
  {
   "cell_type": "code",
   "execution_count": null,
   "metadata": {
    "collapsed": false,
    "jupyter": {
     "outputs_hidden": false,
     "source_hidden": false
    },
    "nteract": {
     "transient": {
      "deleting": false
     }
    }
   },
   "outputs": [],
   "source": [
    "using PrettyTables\n",
    "tbl = vcat( (asa(DataFrame,qi) for qi in q)...) \n",
    "open(joinpath(papersdir(),\"Tables\",\"K2496 results - sanbornite using BaCl2.ltx\"),\"w\") do io\n",
    "  pretty_table(io, tbl, nosubheader=true, backend=:latex, \n",
    "            label=\"tbl:k2496sanbornite\")\n",
    "end\n",
    "tbl"
   ]
  },
  {
   "cell_type": "markdown",
   "metadata": {
    "nteract": {
     "transient": {
      "deleting": false
     }
    }
   },
   "source": [
    "QED"
   ]
  }
 ],
 "metadata": {
  "kernel_info": {
   "name": "julia-(4-threads)-1.6"
  },
  "kernelspec": {
   "display_name": "Julia (4 threads) 1.6",
   "language": "julia",
   "name": "julia-(4-threads)-1.6"
  },
  "language_info": {
   "file_extension": ".jl",
   "mimetype": "application/julia",
   "name": "julia",
   "version": "1.6.1"
  },
  "nteract": {
   "version": "0.28.0"
  }
 },
 "nbformat": 4,
 "nbformat_minor": 4
}
